{
 "cells": [
  {
   "attachments": {},
   "cell_type": "markdown",
   "metadata": {},
   "source": [
    "# Build dev pipeline"
   ]
  },
  {
   "cell_type": "code",
   "execution_count": 13,
   "metadata": {},
   "outputs": [
    {
     "name": "stdout",
     "output_type": "stream",
     "text": [
      "mlops-aml-ws\n",
      "mlops-rg\n",
      "westeurope\n",
      "f90533aa-280d-40b9-9949-a7ba0ee9511f\n",
      "Blobstore's name: workspaceblobstore\n",
      "found existing compute target.\n",
      "preprocess step created\n",
      "Step Train created\n",
      "Step Evaluate created\n",
      "Step Register created\n",
      "Created step preprocess.py [bc927e5d][97fe772d-7314-4539-aeff-7803456088fe], (This step is eligible to reuse a previous run's output)\n",
      "Created step Train Model [2d49ab82][36a82912-e9c9-40a5-baa1-d6f0f54737c3], (This step is eligible to reuse a previous run's output)\n",
      "Created step Evaluate Model  [6ab9b3b3][21eeaf1e-b8e5-4fac-8c67-87f0f11e259a], (This step will run and generate new outputs)\n",
      "Using data reference test_data for StepId [8fca20e3][ee17b8e7-aad7-4670-a604-b0b5a122ca4f], (Consumers of this data are eligible to reuse prior runs.)\n",
      "Published pipeline: preproc-train-register pipeline- b29c072d-f7af-4584-885c-a02d527cc887\n"
     ]
    }
   ],
   "source": [
    "%run ../mlservice/pipeline/build_dev_pipeline.py"
   ]
  },
  {
   "cell_type": "code",
   "execution_count": 4,
   "metadata": {},
   "outputs": [
    {
     "ename": "ModuleNotFoundError",
     "evalue": "No module named 'mlservice'",
     "output_type": "error",
     "traceback": [
      "\u001b[0;31m---------------------------------------------------------------------------\u001b[0m",
      "\u001b[0;31mModuleNotFoundError\u001b[0m                       Traceback (most recent call last)",
      "\u001b[1;32m/home/azureuser/cloudfiles/code/Users/giosue.cotugno/mlops_titanic/mlservice/notebooks/mlops-ci.ipynb Cell 3\u001b[0m in \u001b[0;36m<cell line: 1>\u001b[0;34m()\u001b[0m\n\u001b[0;32m----> <a href='vscode-notebook-cell://amlext%2B2f737562736372697074696f6e732f66393035333361612d323830642d343062392d393934392d6137626130656539353131662f7265736f7572636547726f7570732f6d6c6f70732d52472f70726f7669646572732f4d6963726f736f66742e4d616368696e654c6561726e696e6753657276696365732f776f726b7370616365732f6d6c6f70732d414d4c2d57532f636f6d70757465732f74657374636f7475/home/azureuser/cloudfiles/code/Users/giosue.cotugno/mlops_titanic/mlservice/notebooks/mlops-ci.ipynb#W2sdnNjb2RlLXJlbW90ZQ%3D%3D?line=0'>1</a>\u001b[0m \u001b[39mfrom\u001b[39;00m \u001b[39mmlservice\u001b[39;00m\u001b[39m.\u001b[39;00m\u001b[39mpipeline\u001b[39;00m\u001b[39m.\u001b[39;00m\u001b[39mbuild_dev_pipeline\u001b[39;00m \u001b[39mimport\u001b[39;00m publish_pipeline\n\u001b[1;32m      <a href='vscode-notebook-cell://amlext%2B2f737562736372697074696f6e732f66393035333361612d323830642d343062392d393934392d6137626130656539353131662f7265736f7572636547726f7570732f6d6c6f70732d52472f70726f7669646572732f4d6963726f736f66742e4d616368696e654c6561726e696e6753657276696365732f776f726b7370616365732f6d6c6f70732d414d4c2d57532f636f6d70757465732f74657374636f7475/home/azureuser/cloudfiles/code/Users/giosue.cotugno/mlops_titanic/mlservice/notebooks/mlops-ci.ipynb#W2sdnNjb2RlLXJlbW90ZQ%3D%3D?line=1'>2</a>\u001b[0m publish_pipeline()\n",
      "\u001b[0;31mModuleNotFoundError\u001b[0m: No module named 'mlservice'"
     ]
    }
   ],
   "source": [
    "from mlservice.pipeline.build_dev_pipeline import publish_pipeline\n",
    "publish_pipeline()"
   ]
  },
  {
   "cell_type": "code",
   "execution_count": 7,
   "metadata": {},
   "outputs": [],
   "source": [
    "from azureml.pipeline.core import PublishedPipeline\n",
    "from azureml.core import Experiment, Workspace"
   ]
  },
  {
   "cell_type": "code",
   "execution_count": 9,
   "metadata": {},
   "outputs": [
    {
     "name": "stdout",
     "output_type": "stream",
     "text": [
      "Pipeline(Name: preproc-train-register pipeline,\n",
      "Id: c5e62dee-5321-47d9-8e7e-fe9611bf0b3d,\n",
      "Status: Active,\n",
      "Endpoint: https://westeurope.api.azureml.ms/pipelines/v1.0/subscriptions/f90533aa-280d-40b9-9949-a7ba0ee9511f/resourceGroups/mlops-rg/providers/Microsoft.MachineLearningServices/workspaces/mlops-aml-ws/PipelineRuns/PipelineSubmit/c5e62dee-5321-47d9-8e7e-fe9611bf0b3d)\n",
      "Pipeline(Name: preproc-train-register pipeline,\n",
      "Id: 58b14998-12ad-4727-bf69-5aee80dfcaf2,\n",
      "Status: Active,\n",
      "Endpoint: https://westeurope.api.azureml.ms/pipelines/v1.0/subscriptions/f90533aa-280d-40b9-9949-a7ba0ee9511f/resourceGroups/mlops-rg/providers/Microsoft.MachineLearningServices/workspaces/mlops-aml-ws/PipelineRuns/PipelineSubmit/58b14998-12ad-4727-bf69-5aee80dfcaf2)\n",
      "Pipeline(Name: preproc-train-register pipeline,\n",
      "Id: 269cb66c-853a-4218-b1d4-d78620647c78,\n",
      "Status: Active,\n",
      "Endpoint: https://westeurope.api.azureml.ms/pipelines/v1.0/subscriptions/f90533aa-280d-40b9-9949-a7ba0ee9511f/resourceGroups/mlops-rg/providers/Microsoft.MachineLearningServices/workspaces/mlops-aml-ws/PipelineRuns/PipelineSubmit/269cb66c-853a-4218-b1d4-d78620647c78)\n",
      "Pipeline(Name: preproc-train-register pipeline,\n",
      "Id: 17415998-7150-489a-b348-0c5b28d32c5f,\n",
      "Status: Active,\n",
      "Endpoint: https://westeurope.api.azureml.ms/pipelines/v1.0/subscriptions/f90533aa-280d-40b9-9949-a7ba0ee9511f/resourceGroups/mlops-rg/providers/Microsoft.MachineLearningServices/workspaces/mlops-aml-ws/PipelineRuns/PipelineSubmit/17415998-7150-489a-b348-0c5b28d32c5f)\n",
      "Pipeline(Name: preproc-train-register pipeline,\n",
      "Id: 6379c1c5-35c3-4a28-8f86-cef30b7af3ba,\n",
      "Status: Active,\n",
      "Endpoint: https://westeurope.api.azureml.ms/pipelines/v1.0/subscriptions/f90533aa-280d-40b9-9949-a7ba0ee9511f/resourceGroups/mlops-rg/providers/Microsoft.MachineLearningServices/workspaces/mlops-aml-ws/PipelineRuns/PipelineSubmit/6379c1c5-35c3-4a28-8f86-cef30b7af3ba)\n",
      "Pipeline(Name: preproc-train-register pipeline,\n",
      "Id: 3711dd26-a57b-48f0-be91-549d3330324e,\n",
      "Status: Active,\n",
      "Endpoint: https://westeurope.api.azureml.ms/pipelines/v1.0/subscriptions/f90533aa-280d-40b9-9949-a7ba0ee9511f/resourceGroups/mlops-rg/providers/Microsoft.MachineLearningServices/workspaces/mlops-aml-ws/PipelineRuns/PipelineSubmit/3711dd26-a57b-48f0-be91-549d3330324e)\n",
      "Pipeline(Name: preproc-train-register pipeline,\n",
      "Id: 33dbb162-ef89-413a-987c-2c61c63a2c51,\n",
      "Status: Active,\n",
      "Endpoint: https://westeurope.api.azureml.ms/pipelines/v1.0/subscriptions/f90533aa-280d-40b9-9949-a7ba0ee9511f/resourceGroups/mlops-rg/providers/Microsoft.MachineLearningServices/workspaces/mlops-aml-ws/PipelineRuns/PipelineSubmit/33dbb162-ef89-413a-987c-2c61c63a2c51)\n",
      "Pipeline(Name: preproc-train-register pipeline,\n",
      "Id: 64ea0f3a-5545-4fa6-b0cb-9981e8ce4b68,\n",
      "Status: Active,\n",
      "Endpoint: https://westeurope.api.azureml.ms/pipelines/v1.0/subscriptions/f90533aa-280d-40b9-9949-a7ba0ee9511f/resourceGroups/mlops-rg/providers/Microsoft.MachineLearningServices/workspaces/mlops-aml-ws/PipelineRuns/PipelineSubmit/64ea0f3a-5545-4fa6-b0cb-9981e8ce4b68)\n",
      "Pipeline(Name: preproc-train-register pipeline,\n",
      "Id: f13b6934-ec56-4ffc-b61e-8a9b79595436,\n",
      "Status: Active,\n",
      "Endpoint: https://westeurope.api.azureml.ms/pipelines/v1.0/subscriptions/f90533aa-280d-40b9-9949-a7ba0ee9511f/resourceGroups/mlops-rg/providers/Microsoft.MachineLearningServices/workspaces/mlops-aml-ws/PipelineRuns/PipelineSubmit/f13b6934-ec56-4ffc-b61e-8a9b79595436)\n",
      "Pipeline(Name: preproc-train-register pipeline,\n",
      "Id: d9c873f7-3a20-4015-85ba-5c53ce4f8b81,\n",
      "Status: Active,\n",
      "Endpoint: https://westeurope.api.azureml.ms/pipelines/v1.0/subscriptions/f90533aa-280d-40b9-9949-a7ba0ee9511f/resourceGroups/mlops-rg/providers/Microsoft.MachineLearningServices/workspaces/mlops-aml-ws/PipelineRuns/PipelineSubmit/d9c873f7-3a20-4015-85ba-5c53ce4f8b81)\n",
      "Pipeline(Name: preproc-train-register pipeline,\n",
      "Id: 0f8d1f06-eec1-4536-9bcb-366e70ea13ef,\n",
      "Status: Active,\n",
      "Endpoint: https://westeurope.api.azureml.ms/pipelines/v1.0/subscriptions/f90533aa-280d-40b9-9949-a7ba0ee9511f/resourceGroups/mlops-rg/providers/Microsoft.MachineLearningServices/workspaces/mlops-aml-ws/PipelineRuns/PipelineSubmit/0f8d1f06-eec1-4536-9bcb-366e70ea13ef)\n",
      "Pipeline(Name: preproc-train-register pipeline,\n",
      "Id: 3a1b39ce-6966-47ed-8ca2-54dff6a71bca,\n",
      "Status: Active,\n",
      "Endpoint: https://westeurope.api.azureml.ms/pipelines/v1.0/subscriptions/f90533aa-280d-40b9-9949-a7ba0ee9511f/resourceGroups/mlops-rg/providers/Microsoft.MachineLearningServices/workspaces/mlops-aml-ws/PipelineRuns/PipelineSubmit/3a1b39ce-6966-47ed-8ca2-54dff6a71bca)\n",
      "Pipeline(Name: preproc-train-register pipeline,\n",
      "Id: 8491c2e5-b292-4570-899b-7124ea0a9678,\n",
      "Status: Active,\n",
      "Endpoint: https://westeurope.api.azureml.ms/pipelines/v1.0/subscriptions/f90533aa-280d-40b9-9949-a7ba0ee9511f/resourceGroups/mlops-rg/providers/Microsoft.MachineLearningServices/workspaces/mlops-aml-ws/PipelineRuns/PipelineSubmit/8491c2e5-b292-4570-899b-7124ea0a9678)\n",
      "Pipeline(Name: preproc-train-register pipeline,\n",
      "Id: 0837aa5a-ed14-4a46-9699-c89d82a7b813,\n",
      "Status: Active,\n",
      "Endpoint: https://westeurope.api.azureml.ms/pipelines/v1.0/subscriptions/f90533aa-280d-40b9-9949-a7ba0ee9511f/resourceGroups/mlops-rg/providers/Microsoft.MachineLearningServices/workspaces/mlops-aml-ws/PipelineRuns/PipelineSubmit/0837aa5a-ed14-4a46-9699-c89d82a7b813)\n",
      "Pipeline(Name: preproc-train-register pipeline,\n",
      "Id: 9ac57fa8-ac0d-4c5e-ae71-3fc59f38b1f0,\n",
      "Status: Active,\n",
      "Endpoint: https://westeurope.api.azureml.ms/pipelines/v1.0/subscriptions/f90533aa-280d-40b9-9949-a7ba0ee9511f/resourceGroups/mlops-rg/providers/Microsoft.MachineLearningServices/workspaces/mlops-aml-ws/PipelineRuns/PipelineSubmit/9ac57fa8-ac0d-4c5e-ae71-3fc59f38b1f0)\n",
      "Pipeline(Name: preproc-train-register pipeline,\n",
      "Id: 3a1ece1a-1a90-42ba-b507-9f2f50addc32,\n",
      "Status: Active,\n",
      "Endpoint: https://westeurope.api.azureml.ms/pipelines/v1.0/subscriptions/f90533aa-280d-40b9-9949-a7ba0ee9511f/resourceGroups/mlops-rg/providers/Microsoft.MachineLearningServices/workspaces/mlops-aml-ws/PipelineRuns/PipelineSubmit/3a1ece1a-1a90-42ba-b507-9f2f50addc32)\n",
      "Pipeline(Name: preproc-train-register pipeline,\n",
      "Id: 82f8a751-c99f-4079-a810-7a8c26572967,\n",
      "Status: Active,\n",
      "Endpoint: https://westeurope.api.azureml.ms/pipelines/v1.0/subscriptions/f90533aa-280d-40b9-9949-a7ba0ee9511f/resourceGroups/mlops-rg/providers/Microsoft.MachineLearningServices/workspaces/mlops-aml-ws/PipelineRuns/PipelineSubmit/82f8a751-c99f-4079-a810-7a8c26572967)\n",
      "Pipeline(Name: preproc-train-register pipeline,\n",
      "Id: 597a3364-454d-4d1d-ab5b-c16fe3f98d70,\n",
      "Status: Active,\n",
      "Endpoint: https://westeurope.api.azureml.ms/pipelines/v1.0/subscriptions/f90533aa-280d-40b9-9949-a7ba0ee9511f/resourceGroups/mlops-rg/providers/Microsoft.MachineLearningServices/workspaces/mlops-aml-ws/PipelineRuns/PipelineSubmit/597a3364-454d-4d1d-ab5b-c16fe3f98d70)\n",
      "Pipeline(Name: preproc-train-register pipeline,\n",
      "Id: c6a55c88-d0d6-4462-a226-0a476525fb7c,\n",
      "Status: Active,\n",
      "Endpoint: https://westeurope.api.azureml.ms/pipelines/v1.0/subscriptions/f90533aa-280d-40b9-9949-a7ba0ee9511f/resourceGroups/mlops-rg/providers/Microsoft.MachineLearningServices/workspaces/mlops-aml-ws/PipelineRuns/PipelineSubmit/c6a55c88-d0d6-4462-a226-0a476525fb7c)\n",
      "Pipeline(Name: preproc-train-register pipeline,\n",
      "Id: 48cdba8f-37cf-4401-8e56-7ab3bc0529b0,\n",
      "Status: Active,\n",
      "Endpoint: https://westeurope.api.azureml.ms/pipelines/v1.0/subscriptions/f90533aa-280d-40b9-9949-a7ba0ee9511f/resourceGroups/mlops-rg/providers/Microsoft.MachineLearningServices/workspaces/mlops-aml-ws/PipelineRuns/PipelineSubmit/48cdba8f-37cf-4401-8e56-7ab3bc0529b0)\n",
      "Pipeline(Name: preproc-train-register pipeline,\n",
      "Id: c5e6c58c-485d-4421-bd19-f7f856441ffe,\n",
      "Status: Active,\n",
      "Endpoint: https://westeurope.api.azureml.ms/pipelines/v1.0/subscriptions/f90533aa-280d-40b9-9949-a7ba0ee9511f/resourceGroups/mlops-rg/providers/Microsoft.MachineLearningServices/workspaces/mlops-aml-ws/PipelineRuns/PipelineSubmit/c5e6c58c-485d-4421-bd19-f7f856441ffe)\n",
      "Pipeline(Name: preproc-train-register pipeline,\n",
      "Id: 71c2b72b-cae8-4ed4-bd54-19ee21d85ac4,\n",
      "Status: Active,\n",
      "Endpoint: https://westeurope.api.azureml.ms/pipelines/v1.0/subscriptions/f90533aa-280d-40b9-9949-a7ba0ee9511f/resourceGroups/mlops-rg/providers/Microsoft.MachineLearningServices/workspaces/mlops-aml-ws/PipelineRuns/PipelineSubmit/71c2b72b-cae8-4ed4-bd54-19ee21d85ac4)\n",
      "Pipeline(Name: preproc-train-register pipeline,\n",
      "Id: e5eb344a-90f9-4b39-abac-cc5a714eb0a0,\n",
      "Status: Active,\n",
      "Endpoint: https://westeurope.api.azureml.ms/pipelines/v1.0/subscriptions/f90533aa-280d-40b9-9949-a7ba0ee9511f/resourceGroups/mlops-rg/providers/Microsoft.MachineLearningServices/workspaces/mlops-aml-ws/PipelineRuns/PipelineSubmit/e5eb344a-90f9-4b39-abac-cc5a714eb0a0)\n",
      "Pipeline(Name: preproc-train-register pipeline,\n",
      "Id: 55d19d2c-1bca-4dff-8901-519a79e16764,\n",
      "Status: Active,\n",
      "Endpoint: https://westeurope.api.azureml.ms/pipelines/v1.0/subscriptions/f90533aa-280d-40b9-9949-a7ba0ee9511f/resourceGroups/mlops-rg/providers/Microsoft.MachineLearningServices/workspaces/mlops-aml-ws/PipelineRuns/PipelineSubmit/55d19d2c-1bca-4dff-8901-519a79e16764)\n",
      "Pipeline(Name: preproc-train-register pipeline,\n",
      "Id: d3526830-3a12-4287-b828-2ac42356a333,\n",
      "Status: Active,\n",
      "Endpoint: https://westeurope.api.azureml.ms/pipelines/v1.0/subscriptions/f90533aa-280d-40b9-9949-a7ba0ee9511f/resourceGroups/mlops-rg/providers/Microsoft.MachineLearningServices/workspaces/mlops-aml-ws/PipelineRuns/PipelineSubmit/d3526830-3a12-4287-b828-2ac42356a333)\n",
      "Pipeline(Name: preproc-train-register pipeline,\n",
      "Id: aeabee45-0360-4754-9877-ea61304028c6,\n",
      "Status: Active,\n",
      "Endpoint: https://westeurope.api.azureml.ms/pipelines/v1.0/subscriptions/f90533aa-280d-40b9-9949-a7ba0ee9511f/resourceGroups/mlops-rg/providers/Microsoft.MachineLearningServices/workspaces/mlops-aml-ws/PipelineRuns/PipelineSubmit/aeabee45-0360-4754-9877-ea61304028c6)\n"
     ]
    }
   ],
   "source": [
    "aml_workspace = Workspace.get(\n",
    "        name=\"mlops-AML-WS\",\n",
    "        subscription_id=\"f90533aa-280d-40b9-9949-a7ba0ee9511f\",\n",
    "        resource_group=\"mlops-RG\",\n",
    "    )\n",
    "\n",
    "# Find the pipeline that was published by the specified build ID\n",
    "pipelines = PublishedPipeline.list(aml_workspace)\n",
    "matched_pipes = []\n",
    "for p in pipelines:\n",
    "    if p.name == \"preproc-train-register pipeline\":\n",
    "        #if p.version == \"latest\":\n",
    "        print(p)\n",
    "        matched_pipes.append(p)"
   ]
  },
  {
   "cell_type": "code",
   "execution_count": 12,
   "metadata": {},
   "outputs": [
    {
     "data": {
      "text/html": [
       "<table style=\"width:100%\"><tr><th>Name</th><th>Id</th><th>Status</th><th>Endpoint</th></tr><tr><td>preproc-train-register pipeline</td><td><a href=\"https://ml.azure.com/pipelines/c5e62dee-5321-47d9-8e7e-fe9611bf0b3d?wsid=/subscriptions/f90533aa-280d-40b9-9949-a7ba0ee9511f/resourcegroups/mlops-RG/workspaces/mlops-AML-WS\" target=\"_blank\" rel=\"noopener\">c5e62dee-5321-47d9-8e7e-fe9611bf0b3d</a></td><td>Active</td><td><a href=\"https://westeurope.api.azureml.ms/pipelines/v1.0/subscriptions/f90533aa-280d-40b9-9949-a7ba0ee9511f/resourceGroups/mlops-rg/providers/Microsoft.MachineLearningServices/workspaces/mlops-aml-ws/PipelineRuns/PipelineSubmit/c5e62dee-5321-47d9-8e7e-fe9611bf0b3d\" target=\"_blank\" rel=\"noopener\">REST Endpoint</a></td></tr></table>"
      ],
      "text/plain": [
       "Pipeline(Name: preproc-train-register pipeline,\n",
       "Id: c5e62dee-5321-47d9-8e7e-fe9611bf0b3d,\n",
       "Status: Active,\n",
       "Endpoint: https://westeurope.api.azureml.ms/pipelines/v1.0/subscriptions/f90533aa-280d-40b9-9949-a7ba0ee9511f/resourceGroups/mlops-rg/providers/Microsoft.MachineLearningServices/workspaces/mlops-aml-ws/PipelineRuns/PipelineSubmit/c5e62dee-5321-47d9-8e7e-fe9611bf0b3d)"
      ]
     },
     "execution_count": 12,
     "metadata": {},
     "output_type": "execute_result"
    }
   ],
   "source": [
    "matched_pipes[0]"
   ]
  }
 ],
 "metadata": {
  "kernelspec": {
   "display_name": "azureml_py38",
   "language": "python",
   "name": "python3"
  },
  "language_info": {
   "codemirror_mode": {
    "name": "ipython",
    "version": 3
   },
   "file_extension": ".py",
   "mimetype": "text/x-python",
   "name": "python",
   "nbconvert_exporter": "python",
   "pygments_lexer": "ipython3",
   "version": "3.8.5"
  },
  "orig_nbformat": 4,
  "vscode": {
   "interpreter": {
    "hash": "6d65a8c07f5b6469e0fc613f182488c0dccce05038bbda39e5ac9075c0454d11"
   }
  }
 },
 "nbformat": 4,
 "nbformat_minor": 2
}
