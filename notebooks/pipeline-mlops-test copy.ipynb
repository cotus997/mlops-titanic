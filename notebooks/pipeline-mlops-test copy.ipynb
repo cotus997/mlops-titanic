{
 "cells": [
  {
   "cell_type": "markdown",
   "metadata": {},
   "source": [
    "Logging something on mlflow to retrieve it"
   ]
  },
  {
   "cell_type": "code",
   "execution_count": 4,
   "metadata": {
    "vscode": {
     "languageId": "r"
    }
   },
   "outputs": [
    {
     "ename": "ERROR",
     "evalue": "Error in parse(text = x, srcfile = src): <text>:1:6: unexpected symbol\n1: from azure.ai.ml\n         ^\n",
     "output_type": "error",
     "traceback": [
      "Error in parse(text = x, srcfile = src): <text>:1:6: unexpected symbol\n1: from azure.ai.ml\n         ^\nTraceback:\n"
     ]
    }
   ],
   "source": [
    "from azure.ai.ml import MLClient\n",
    "from azure.identity import DefaultAzureCredential\n",
    "import mlflow\n",
    "from azureml.core import Workspace, Dataset\n",
    "import pandas as pd"
   ]
  },
  {
   "cell_type": "code",
   "execution_count": 2,
   "metadata": {
    "vscode": {
     "languageId": "r"
    }
   },
   "outputs": [
    {
     "name": "stderr",
     "output_type": "stream",
     "text": [
      "Found the config file in: /config.json\n"
     ]
    }
   ],
   "source": [
    "ml_client = MLClient.from_config(credential=DefaultAzureCredential())\n",
    "azureml_mlflow_uri = ml_client.workspaces.get(ml_client.workspace_name).mlflow_tracking_uri\n",
    "mlflow.set_tracking_uri(azureml_mlflow_uri)\n",
    "\n",
    "# Connect to the Workspace\n",
    "ws = Workspace.from_config()\n",
    "\n",
    "# The default datastore is a blob storage container where datasets are stored\n",
    "datastore = ws.get_default_datastore()"
   ]
  },
  {
   "cell_type": "code",
   "execution_count": 3,
   "metadata": {
    "vscode": {
     "languageId": "r"
    }
   },
   "outputs": [
    {
     "data": {
      "text/plain": [
       "<Experiment: artifact_location='', experiment_id='0ed74f1d-0b5a-42a3-b761-2b39bac8b87b', lifecycle_stage='active', name='experiment_with_mlflow', tags={}>"
      ]
     },
     "execution_count": 3,
     "metadata": {},
     "output_type": "execute_result"
    }
   ],
   "source": [
    "experiment_name = 'experiment_with_mlflow'\n",
    "mlflow.set_experiment(experiment_name)"
   ]
  },
  {
   "cell_type": "code",
   "execution_count": 9,
   "metadata": {
    "vscode": {
     "languageId": "r"
    }
   },
   "outputs": [],
   "source": [
    "import os\n",
    "from random import random\n",
    "\n",
    "mlflow.start_run()\n",
    "mlflow.log_param(\"hello_param\", \"world\")\n",
    "mlflow.log_metric(\"hello_metric\", random())\n",
    "os.system(f\"echo 'hello world' > helloworld.txt\")\n",
    "mlflow.log_artifact(\"helloworld.txt\")"
   ]
  },
  {
   "cell_type": "code",
   "execution_count": 10,
   "metadata": {
    "vscode": {
     "languageId": "r"
    }
   },
   "outputs": [
    {
     "data": {
      "text/plain": [
       "<RunInfo: artifact_uri='azureml://experiments/experiment_with_mlflow/runs/f8eeaa57-f975-4743-9e70-5202f9c0ad80/artifacts', end_time=None, experiment_id='0ed74f1d-0b5a-42a3-b761-2b39bac8b87b', lifecycle_stage='active', run_id='f8eeaa57-f975-4743-9e70-5202f9c0ad80', run_uuid='f8eeaa57-f975-4743-9e70-5202f9c0ad80', start_time=1669801474042, status='RUNNING', user_id='0ede9b9c-2b54-4172-a26d-bbeff841eda9'>"
      ]
     },
     "execution_count": 10,
     "metadata": {},
     "output_type": "execute_result"
    }
   ],
   "source": [
    "mlflow.active_run().info.run_id"
   ]
  },
  {
   "cell_type": "code",
   "execution_count": 6,
   "metadata": {
    "vscode": {
     "languageId": "r"
    }
   },
   "outputs": [],
   "source": [
    "mlflow.end_run()"
   ]
  },
  {
   "cell_type": "code",
   "execution_count": 7,
   "metadata": {
    "vscode": {
     "languageId": "r"
    }
   },
   "outputs": [
    {
     "ename": "NameError",
     "evalue": "name 'mlflow_run' is not defined",
     "output_type": "error",
     "traceback": [
      "\u001b[0;31m---------------------------------------------------------------------------\u001b[0m",
      "\u001b[0;31mNameError\u001b[0m                                 Traceback (most recent call last)",
      "\u001b[1;32m/home/azureuser/cloudfiles/code/Users/giosue.cotugno/mlops-titanic/notebooks/pipeline-mlops-test.ipynb Cell 8\u001b[0m in \u001b[0;36m<cell line: 1>\u001b[0;34m()\u001b[0m\n\u001b[0;32m----> <a href='vscode-notebook-cell://amlext%2B2f737562736372697074696f6e732f66393035333361612d323830642d343062392d393934392d6137626130656539353131662f7265736f7572636547726f7570732f6d6c6f70732d52472f70726f7669646572732f4d6963726f736f66742e4d616368696e654c6561726e696e6753657276696365732f776f726b7370616365732f6d6c6f70732d414d4c2d57532f636f6d70757465732f74657374636f7475/home/azureuser/cloudfiles/code/Users/giosue.cotugno/mlops-titanic/notebooks/pipeline-mlops-test.ipynb#X10sdnNjb2RlLXJlbW90ZQ%3D%3D?line=0'>1</a>\u001b[0m mlflow_run\u001b[39m.\u001b[39minfo\n",
      "\u001b[0;31mNameError\u001b[0m: name 'mlflow_run' is not defined"
     ]
    }
   ],
   "source": [
    "mlflow_run.info"
   ]
  },
  {
   "cell_type": "code",
   "execution_count": null,
   "metadata": {
    "vscode": {
     "languageId": "r"
    }
   },
   "outputs": [],
   "source": [
    "from azureml.core.run import Run\n",
    "run=Run.get_context()"
   ]
  },
  {
   "cell_type": "code",
   "execution_count": null,
   "metadata": {
    "vscode": {
     "languageId": "r"
    }
   },
   "outputs": [
    {
     "name": "stdout",
     "output_type": "stream",
     "text": [
      "Attempted to log scalar metric pippo:\n",
      "1\n"
     ]
    }
   ],
   "source": [
    "run.log(\"pippo\",1)"
   ]
  },
  {
   "cell_type": "markdown",
   "metadata": {},
   "source": [
    "Retrieving info from mlflow experiment name"
   ]
  },
  {
   "cell_type": "code",
   "execution_count": 14,
   "metadata": {
    "vscode": {
     "languageId": "r"
    }
   },
   "outputs": [],
   "source": [
    "exp=mlflow.get_experiment_by_name(\"train\")"
   ]
  },
  {
   "cell_type": "code",
   "execution_count": null,
   "metadata": {
    "vscode": {
     "languageId": "r"
    }
   },
   "outputs": [],
   "source": [
    "import shutil\n",
    "shutil.rmtree(os.path.join(\"../src/train/models/\", \"trained_model\"), ignore_errors=True)"
   ]
  },
  {
   "cell_type": "code",
   "execution_count": 15,
   "metadata": {
    "vscode": {
     "languageId": "r"
    }
   },
   "outputs": [],
   "source": [
    "runs=mlflow.search_runs(exp.experiment_id,output_format=\"list\")\n",
    "last_run=runs[-1]"
   ]
  },
  {
   "cell_type": "code",
   "execution_count": 16,
   "metadata": {
    "vscode": {
     "languageId": "r"
    }
   },
   "outputs": [
    {
     "name": "stdout",
     "output_type": "stream",
     "text": [
      "82a79f85-75da-450f-b97c-152d967ad65a\n",
      "{'metric_eval': 0.15246636771300448} - {'mlflow.user': 'Giosuè Cotugno', 'mlflow.source.name': 'train.py', 'mlflow.source.type': 'LOCAL', 'mlflow.source.git.commit': '68cf695085f0763f50cef109bdd2d2a0b0acfc43', 'dataset_id': '2ec650af-4f83-4009-baaf-e6d1da5adedc', 'mlflow.rootRunId': '82a79f85-75da-450f-b97c-152d967ad65a', 'mlflow.runName': 'calm_root_tqwly63v'} - {'objective': 'binary:logistic', 'base_score': 'None', 'booster': 'None', 'colsample_bylevel': 'None', 'colsample_bynode': 'None', 'colsample_bytree': 'None', 'gamma': 'None', 'gpu_id': 'None', 'interaction_constraints': 'None', 'learning_rate': 'None', 'max_delta_step': 'None', 'max_depth': '5', 'min_child_weight': 'None', 'monotone_constraints': 'None', 'n_jobs': 'None', 'num_parallel_tree': 'None', 'random_state': '0', 'reg_alpha': 'None', 'reg_lambda': 'None', 'scale_pos_weight': 'None', 'subsample': 'None', 'tree_method': 'None', 'validate_parameters': 'None', 'verbosity': 'None', 'eval_metric': 'logloss', 'eta': '0.3', 'num_boost_round': '100', 'early_stopping_rounds': 'None', 'verbose_eval': 'True', 'maximize': 'None'}\n"
     ]
    }
   ],
   "source": [
    "from mlflow.tracking import MlflowClient\n",
    "# Use MlFlow to retrieve the job that was just completed\n",
    "client = MlflowClient()\n",
    "run_id = last_run.info.run_id\n",
    "print(run_id)\n",
    "finished_mlflow_run = MlflowClient().get_run(run_id)\n",
    "\n",
    "metrics = finished_mlflow_run.data.metrics\n",
    "tags = finished_mlflow_run.data.tags\n",
    "params = finished_mlflow_run.data.params\n",
    "\n",
    "print(f'{metrics} - {tags} - {params}')"
   ]
  },
  {
   "cell_type": "code",
   "execution_count": null,
   "metadata": {
    "vscode": {
     "languageId": "r"
    }
   },
   "outputs": [
    {
     "name": "stdout",
     "output_type": "stream",
     "text": [
      "3bdf3597-23e7-4f3f-b24a-0c60686b739b\n"
     ]
    }
   ],
   "source": [
    "print(params['dataset_ID'])\n",
    "dataset_id=params['dataset_ID']\n",
    "dataset=Dataset.get_by_id(ws,id=dataset_id)"
   ]
  },
  {
   "cell_type": "code",
   "execution_count": null,
   "metadata": {
    "vscode": {
     "languageId": "r"
    }
   },
   "outputs": [],
   "source": [
    "df=dataset.to_pandas_dataframe()"
   ]
  },
  {
   "cell_type": "code",
   "execution_count": null,
   "metadata": {
    "vscode": {
     "languageId": "r"
    }
   },
   "outputs": [
    {
     "data": {
      "text/html": [
       "<div>\n",
       "<style scoped>\n",
       "    .dataframe tbody tr th:only-of-type {\n",
       "        vertical-align: middle;\n",
       "    }\n",
       "\n",
       "    .dataframe tbody tr th {\n",
       "        vertical-align: top;\n",
       "    }\n",
       "\n",
       "    .dataframe thead th {\n",
       "        text-align: right;\n",
       "    }\n",
       "</style>\n",
       "<table border=\"1\" class=\"dataframe\">\n",
       "  <thead>\n",
       "    <tr style=\"text-align: right;\">\n",
       "      <th></th>\n",
       "      <th>Survived</th>\n",
       "      <th>Pclass</th>\n",
       "      <th>Sex</th>\n",
       "      <th>Age</th>\n",
       "      <th>SibSp</th>\n",
       "      <th>Parch</th>\n",
       "      <th>Fare</th>\n",
       "      <th>Embarked</th>\n",
       "    </tr>\n",
       "  </thead>\n",
       "  <tbody>\n",
       "    <tr>\n",
       "      <th>0</th>\n",
       "      <td>0</td>\n",
       "      <td>3</td>\n",
       "      <td>male</td>\n",
       "      <td>22.00</td>\n",
       "      <td>1</td>\n",
       "      <td>0</td>\n",
       "      <td>7.2500</td>\n",
       "      <td>S</td>\n",
       "    </tr>\n",
       "    <tr>\n",
       "      <th>1</th>\n",
       "      <td>1</td>\n",
       "      <td>1</td>\n",
       "      <td>female</td>\n",
       "      <td>38.00</td>\n",
       "      <td>1</td>\n",
       "      <td>0</td>\n",
       "      <td>71.2833</td>\n",
       "      <td>C</td>\n",
       "    </tr>\n",
       "    <tr>\n",
       "      <th>2</th>\n",
       "      <td>1</td>\n",
       "      <td>3</td>\n",
       "      <td>female</td>\n",
       "      <td>26.00</td>\n",
       "      <td>0</td>\n",
       "      <td>0</td>\n",
       "      <td>7.9250</td>\n",
       "      <td>S</td>\n",
       "    </tr>\n",
       "    <tr>\n",
       "      <th>3</th>\n",
       "      <td>1</td>\n",
       "      <td>1</td>\n",
       "      <td>female</td>\n",
       "      <td>35.00</td>\n",
       "      <td>1</td>\n",
       "      <td>0</td>\n",
       "      <td>53.1000</td>\n",
       "      <td>S</td>\n",
       "    </tr>\n",
       "    <tr>\n",
       "      <th>4</th>\n",
       "      <td>0</td>\n",
       "      <td>3</td>\n",
       "      <td>male</td>\n",
       "      <td>35.00</td>\n",
       "      <td>0</td>\n",
       "      <td>0</td>\n",
       "      <td>8.0500</td>\n",
       "      <td>S</td>\n",
       "    </tr>\n",
       "    <tr>\n",
       "      <th>...</th>\n",
       "      <td>...</td>\n",
       "      <td>...</td>\n",
       "      <td>...</td>\n",
       "      <td>...</td>\n",
       "      <td>...</td>\n",
       "      <td>...</td>\n",
       "      <td>...</td>\n",
       "      <td>...</td>\n",
       "    </tr>\n",
       "    <tr>\n",
       "      <th>884</th>\n",
       "      <td>0</td>\n",
       "      <td>2</td>\n",
       "      <td>male</td>\n",
       "      <td>27.00</td>\n",
       "      <td>0</td>\n",
       "      <td>0</td>\n",
       "      <td>13.0000</td>\n",
       "      <td>S</td>\n",
       "    </tr>\n",
       "    <tr>\n",
       "      <th>885</th>\n",
       "      <td>1</td>\n",
       "      <td>1</td>\n",
       "      <td>female</td>\n",
       "      <td>19.00</td>\n",
       "      <td>0</td>\n",
       "      <td>0</td>\n",
       "      <td>30.0000</td>\n",
       "      <td>S</td>\n",
       "    </tr>\n",
       "    <tr>\n",
       "      <th>886</th>\n",
       "      <td>0</td>\n",
       "      <td>3</td>\n",
       "      <td>female</td>\n",
       "      <td>25.14</td>\n",
       "      <td>1</td>\n",
       "      <td>2</td>\n",
       "      <td>23.4500</td>\n",
       "      <td>S</td>\n",
       "    </tr>\n",
       "    <tr>\n",
       "      <th>887</th>\n",
       "      <td>1</td>\n",
       "      <td>1</td>\n",
       "      <td>male</td>\n",
       "      <td>26.00</td>\n",
       "      <td>0</td>\n",
       "      <td>0</td>\n",
       "      <td>30.0000</td>\n",
       "      <td>C</td>\n",
       "    </tr>\n",
       "    <tr>\n",
       "      <th>888</th>\n",
       "      <td>0</td>\n",
       "      <td>3</td>\n",
       "      <td>male</td>\n",
       "      <td>32.00</td>\n",
       "      <td>0</td>\n",
       "      <td>0</td>\n",
       "      <td>7.7500</td>\n",
       "      <td>Q</td>\n",
       "    </tr>\n",
       "  </tbody>\n",
       "</table>\n",
       "<p>889 rows × 8 columns</p>\n",
       "</div>"
      ],
      "text/plain": [
       "     Survived  Pclass     Sex    Age  SibSp  Parch     Fare Embarked\n",
       "0           0       3    male  22.00      1      0   7.2500        S\n",
       "1           1       1  female  38.00      1      0  71.2833        C\n",
       "2           1       3  female  26.00      0      0   7.9250        S\n",
       "3           1       1  female  35.00      1      0  53.1000        S\n",
       "4           0       3    male  35.00      0      0   8.0500        S\n",
       "..        ...     ...     ...    ...    ...    ...      ...      ...\n",
       "884         0       2    male  27.00      0      0  13.0000        S\n",
       "885         1       1  female  19.00      0      0  30.0000        S\n",
       "886         0       3  female  25.14      1      2  23.4500        S\n",
       "887         1       1    male  26.00      0      0  30.0000        C\n",
       "888         0       3    male  32.00      0      0   7.7500        Q\n",
       "\n",
       "[889 rows x 8 columns]"
      ]
     },
     "execution_count": 19,
     "metadata": {},
     "output_type": "execute_result"
    }
   ],
   "source": [
    "df"
   ]
  },
  {
   "cell_type": "markdown",
   "metadata": {},
   "source": [
    "# Registering dataset from pandas dataframe"
   ]
  },
  {
   "cell_type": "code",
   "execution_count": null,
   "metadata": {
    "vscode": {
     "languageId": "r"
    }
   },
   "outputs": [
    {
     "data": {
      "text/plain": [
       "<module 'mlflow' from '/anaconda/envs/azureml_py38/lib/python3.8/site-packages/mlflow/__init__.py'>"
      ]
     },
     "execution_count": 8,
     "metadata": {},
     "output_type": "execute_result"
    }
   ],
   "source": [
    "mlflow"
   ]
  },
  {
   "cell_type": "code",
   "execution_count": null,
   "metadata": {
    "vscode": {
     "languageId": "r"
    }
   },
   "outputs": [
    {
     "name": "stdout",
     "output_type": "stream",
     "text": [
      "Validating arguments.\n",
      "Arguments validated.\n",
      "Successfully obtained datastore reference and path.\n",
      "Uploading file to managed-dataset/a1c7c2cc-8dc3-4e23-a612-56b89a529170/\n",
      "Successfully uploaded file to datastore.\n",
      "Creating and registering a new dataset.\n",
      "Successfully created and registered a new dataset.\n",
      "Titanic_dataset v1 (ID: 797d5ac0-ecdc-4d19-907e-741af544f910)\n"
     ]
    }
   ],
   "source": [
    "\n",
    "df=pd.read_csv(\"../data/train/data.csv\")\n",
    "# Register the dataset\n",
    "ds = Dataset.Tabular.register_pandas_dataframe(\n",
    "        dataframe=df, \n",
    "        name='Titanic_dataset', \n",
    "        description='dataset containing the survivors from the Titanic disaster',\n",
    "        target=datastore\n",
    "    )\n",
    "\n",
    "# Display information about the dataset\n",
    "print(ds.name + \" v\" + str(ds.version) + ' (ID: ' + ds.id + \")\")"
   ]
  },
  {
   "cell_type": "code",
   "execution_count": null,
   "metadata": {
    "vscode": {
     "languageId": "r"
    }
   },
   "outputs": [],
   "source": [
    "from azureml.core import Workspace\n",
    "from azureml.core.model import Model as AMLModel"
   ]
  },
  {
   "cell_type": "code",
   "execution_count": null,
   "metadata": {
    "vscode": {
     "languageId": "r"
    }
   },
   "outputs": [],
   "source": [
    "def get_model(\n",
    "    model_name: str,\n",
    "    model_version: int = None,  # If none, return latest model\n",
    "    tag_name: str = None,\n",
    "    tag_value: str = None,\n",
    "    aml_workspace: Workspace = None\n",
    ") -> AMLModel:\n",
    "    \"\"\"\n",
    "    Retrieves and returns a model from the workspace by its name\n",
    "    and (optional) tag.\n",
    "\n",
    "    Parameters:\n",
    "    aml_workspace (Workspace): aml.core Workspace that the model lives.\n",
    "    model_name (str): name of the model we are looking for\n",
    "    (optional) model_version (str): model version. Latest if not provided.\n",
    "    (optional) tag (str): the tag value & name the model was registered under.\n",
    "\n",
    "    Return:\n",
    "    A single aml model from the workspace that matches the name and tag, or\n",
    "    None.\n",
    "    \"\"\"\n",
    "    if aml_workspace is None:\n",
    "        print(\"No workspace defined - using current experiment workspace.\")\n",
    "        aml_workspace = get_current_workspace()\n",
    "\n",
    "    tags = None\n",
    "    if tag_name is not None or tag_value is not None:\n",
    "        # Both a name and value must be specified to use tags.\n",
    "        if tag_name is None or tag_value is None:\n",
    "            raise ValueError(\n",
    "                \"model_tag_name and model_tag_value should both be supplied\"\n",
    "                + \"or excluded\"  # NOQA: E501\n",
    "            )\n",
    "        tags = [[tag_name, tag_value]]\n",
    "\n",
    "    model = None\n",
    "    if model_version is not None:\n",
    "        # TODO(tcare): Finding a specific version currently expects exceptions\n",
    "        # to propagate in the case we can't find the model. This call may\n",
    "        # result in a WebserviceException that may or may not be due to the\n",
    "        # model not existing.\n",
    "        model = AMLModel(\n",
    "            aml_workspace,\n",
    "            name=model_name,\n",
    "            version=model_version,\n",
    "            tags=tags)\n",
    "    else:\n",
    "        models = AMLModel.list(\n",
    "            aml_workspace, name=model_name, tags=tags, latest=True)\n",
    "        if len(models) == 1:\n",
    "            model = models[0]\n",
    "        elif len(models) > 1:\n",
    "            raise Exception(\"Expected only one model\")\n",
    "\n",
    "    return model"
   ]
  },
  {
   "cell_type": "code",
   "execution_count": null,
   "metadata": {
    "vscode": {
     "languageId": "r"
    }
   },
   "outputs": [
    {
     "data": {
      "text/plain": [
       "Model(workspace=Workspace.create(name='mlops-aml-ws', subscription_id='f90533aa-280d-40b9-9949-a7ba0ee9511f', resource_group='mlops-rg'), name=xgb, id=xgb:1, version=1, tags={}, properties={'flavors.python_function': '{\\n  \"loader_module\": \"mlflow.xgboost\",\\n  \"python_version\": \"3.8.5\",\\n  \"data\": \"model.xgb\",\\n  \"env\": \"conda.yaml\"\\n}', 'flavors.xgboost': '{\\n  \"xgb_version\": \"1.3.3\",\\n  \"data\": \"model.xgb\",\\n  \"model_class\": \"xgboost.sklearn.XGBClassifier\",\\n  \"code\": null\\n}', 'flavors': 'python_function,xgboost', 'azureml.artifactPrefix': 'ExperimentRun/dcid.b1b5edba-154c-4b71-af74-b64294080b27/xgb', 'model_json': '{\"run_id\": \"b1b5edba-154c-4b71-af74-b64294080b27\", \"artifact_path\": \"xgb\", \"utc_time_created\": \"2022-11-22 12:03:01.252041\", \"flavors\": {\"python_function\": {\"loader_module\": \"mlflow.xgboost\", \"python_version\": \"3.8.5\", \"data\": \"model.xgb\", \"env\": \"conda.yaml\"}, \"xgboost\": {\"xgb_version\": \"1.3.3\", \"data\": \"model.xgb\", \"model_class\": \"xgboost.sklearn.XGBClassifier\", \"code\": null}}, \"model_uuid\": \"c7c04212638d48d7bec8520dc487ad55\", \"mlflow_version\": \"1.28.0\"}', 'azureml.storagePath': 'ExperimentRun/dcid.b1b5edba-154c-4b71-af74-b64294080b27/xgb', 'mlflow.modelSourceUri': 'azureml://experiments/Default/runs/b1b5edba-154c-4b71-af74-b64294080b27/artifacts/xgb'})"
      ]
     },
     "execution_count": 8,
     "metadata": {},
     "output_type": "execute_result"
    }
   ],
   "source": [
    "get_model(\"xgb\",aml_workspace=ws)"
   ]
  },
  {
   "cell_type": "code",
   "execution_count": null,
   "metadata": {
    "vscode": {
     "languageId": "r"
    }
   },
   "outputs": [],
   "source": []
  },
  {
   "cell_type": "code",
   "execution_count": null,
   "metadata": {
    "vscode": {
     "languageId": "r"
    }
   },
   "outputs": [],
   "source": [
    "def register_aml_model(\n",
    "    model_path,\n",
    "    model_name,\n",
    "    model_tags,\n",
    "    exp,\n",
    "    run_id,\n",
    "    dataset_id\n",
    "):\n",
    "    try:\n",
    "        tagsValue = {\"area\": \"titanic_classification\",\n",
    "                     \"run_id\": run_id,\n",
    "                     \"experiment_name\": exp.name}\n",
    "        tagsValue.update(model_tags)\n",
    "        \n",
    "\n",
    "        model = AMLModel.register(\n",
    "            workspace=exp.workspace,\n",
    "            model_name=model_name,\n",
    "            model_path=model_path,\n",
    "            tags=tagsValue,\n",
    "            datasets=[('training data',\n",
    "                       Dataset.get_by_id(exp.workspace, dataset_id))])\n",
    "        os.chdir(\"..\")\n",
    "        print(\n",
    "            \"Model registered: {} \\nModel Description: {} \"\n",
    "            \"\\nModel Version: {}\".format(\n",
    "                model.name, model.description, model.version\n",
    "            )\n",
    "        )\n",
    "    except Exception:\n",
    "        traceback.print_exc(limit=None, file=None, chain=True)\n",
    "        print(\"Model registration failed\")\n",
    "        raise"
   ]
  },
  {
   "cell_type": "code",
   "execution_count": null,
   "metadata": {
    "vscode": {
     "languageId": "r"
    }
   },
   "outputs": [
    {
     "data": {
      "text/plain": [
       "XGBClassifier(base_score=0.5, booster='gbtree', colsample_bylevel=1,\n",
       "              colsample_bynode=1, colsample_bytree=1, eta=0.3, gamma=0,\n",
       "              gpu_id=-1, importance_type='gain', interaction_constraints='',\n",
       "              learning_rate=0.300000012, max_delta_step=0, max_depth=6,\n",
       "              min_child_weight=1, missing=nan, monotone_constraints='()',\n",
       "              n_estimators=100, n_jobs=1, num_parallel_tree=1,\n",
       "              objective='binary:logistic', random_state=42, reg_alpha=0,\n",
       "              reg_lambda=1, scale_pos_weight=1, subsample=1, tree_method='auto',\n",
       "              use_label_encoder=True, validate_parameters=1, verbosity=None)"
      ]
     },
     "execution_count": 14,
     "metadata": {},
     "output_type": "execute_result"
    }
   ],
   "source": [
    "mlflow.xgboost.load_model(\"azureml://experiments/Default/runs/b1b5edba-154c-4b71-af74-b64294080b27/artifacts/xgb\")"
   ]
  },
  {
   "cell_type": "markdown",
   "metadata": {},
   "source": [
    "# Environment creation"
   ]
  },
  {
   "cell_type": "code",
   "execution_count": 3,
   "metadata": {
    "vscode": {
     "languageId": "r"
    }
   },
   "outputs": [
    {
     "ename": "ERROR",
     "evalue": "Error in parse(text = x, srcfile = src): <text>:1:6: unexpected symbol\n1: from azureml.core\n         ^\n",
     "output_type": "error",
     "traceback": [
      "Error in parse(text = x, srcfile = src): <text>:1:6: unexpected symbol\n1: from azureml.core\n         ^\nTraceback:\n"
     ]
    }
   ],
   "source": [
    "from azureml.core import Environment\n",
    "from azureml.core.environment import CondaDependencies\n",
    "from azureml.core.workspace import Workspace"
   ]
  },
  {
   "cell_type": "code",
   "execution_count": 2,
   "metadata": {
    "vscode": {
     "languageId": "r"
    }
   },
   "outputs": [
    {
     "ename": "ERROR",
     "evalue": "Error in Workspace.from_config(): could not find function \"Workspace.from_config\"\n",
     "output_type": "error",
     "traceback": [
      "Error in Workspace.from_config(): could not find function \"Workspace.from_config\"\nTraceback:\n"
     ]
    }
   ],
   "source": [
    "ws = Workspace.from_config()\n",
    "ws.get_details()"
   ]
  }
 ],
 "metadata": {
  "kernelspec": {
   "display_name": "R",
   "language": "R",
   "name": "ir"
  },
  "language_info": {
   "codemirror_mode": "r",
   "file_extension": ".r",
   "mimetype": "text/x-r-source",
   "name": "R",
   "pygments_lexer": "r",
   "version": "4.2.1"
  },
  "orig_nbformat": 4,
  "vscode": {
   "interpreter": {
    "hash": "6d65a8c07f5b6469e0fc613f182488c0dccce05038bbda39e5ac9075c0454d11"
   }
  }
 },
 "nbformat": 4,
 "nbformat_minor": 2
}
