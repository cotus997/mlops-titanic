{
  "cells": [
    {
      "attachments": {},
      "cell_type": "markdown",
      "metadata": {},
      "source": [
        "# imports"
      ]
    },
    {
      "cell_type": "code",
      "execution_count": 79,
      "metadata": {
        "gather": {
          "logged": 1670961745732
        },
        "vscode": {
          "languageId": "python"
        }
      },
      "outputs": [],
      "source": [
        "\n",
        "from azureml.data.data_reference import DataReference\n",
        "from azureml.pipeline.core import Pipeline, PipelineData\n",
        "from azureml.pipeline.steps import PythonScriptStep\n",
        "import os\n",
        "\n",
        "from azureml.core import Workspace,Experiment, Environment\n",
        "\n",
        "\n"
      ]
    },
    {
      "attachments": {},
      "cell_type": "markdown",
      "metadata": {},
      "source": [
        "# Defining utility function"
      ]
    },
    {
      "cell_type": "code",
      "execution_count": 80,
      "metadata": {
        "vscode": {
          "languageId": "python"
        }
      },
      "outputs": [],
      "source": [
        "def getOrCreateCompute(ws:Workspace):\n",
        "    \n",
        "    from azureml.core.compute import AmlCompute\n",
        "    from azureml.core.compute import ComputeTarget\n",
        "    from azureml.core.compute_target import ComputeTargetException\n",
        "\n",
        "    aml_compute_target = \"testcot\"\n",
        "    try:\n",
        "        aml_compute = AmlCompute(ws, aml_compute_target)\n",
        "        print(\"found existing compute target.\")\n",
        "    except ComputeTargetException:\n",
        "        print(\"creating new compute target\")\n",
        "\n",
        "        provisioning_config = AmlCompute.provisioning_configuration(vm_size = \"STANDARD_D2_V2\",\n",
        "                                                                    min_nodes = 0, \n",
        "                                                                    max_nodes = 4)    \n",
        "        aml_compute = ComputeTarget.create(ws, aml_compute_target, provisioning_config)\n",
        "        aml_compute.wait_for_completion(show_output=True, min_node_count=None, timeout_in_minutes=20)\n",
        "    finally:\n",
        "        return aml_compute"
      ]
    },
    {
      "cell_type": "code",
      "execution_count": 81,
      "metadata": {
        "vscode": {
          "languageId": "python"
        }
      },
      "outputs": [],
      "source": [
        "def createRunConfig(ws):\n",
        "    \n",
        "    from azureml.core.runconfig import RunConfiguration\n",
        "    from azure.ai.ml import MLClient\n",
        "    from azure.identity import DefaultAzureCredential\n",
        "    from azureml.core import Environment\n",
        "    # create a new runconfig object\n",
        "    run_config = RunConfiguration()\n",
        "    env = Environment.get(workspace=ws, name='TITANIC', version='1')\n",
        "\n",
        "    run_config.environment=env\n",
        "\n",
        "    \n",
        "\n",
        "    return run_config"
      ]
    },
    {
      "cell_type": "code",
      "execution_count": 82,
      "metadata": {
        "vscode": {
          "languageId": "python"
        }
      },
      "outputs": [],
      "source": [
        "#os.chdir('Users/giosue.cotugno/mlops_titanic/notebooks/')"
      ]
    },
    {
      "attachments": {},
      "cell_type": "markdown",
      "metadata": {},
      "source": [
        "# Build dev pipeline"
      ]
    },
    {
      "cell_type": "code",
      "execution_count": 83,
      "metadata": {
        "vscode": {
          "languageId": "python"
        }
      },
      "outputs": [
        {
          "name": "stdout",
          "output_type": "stream",
          "text": [
            "mlops-aml-ws\n",
            "mlops-rg\n",
            "westeurope\n",
            "f90533aa-280d-40b9-9949-a7ba0ee9511f\n",
            "Blobstore's name: workspaceblobstore\n"
          ]
        }
      ],
      "source": [
        "ws = Workspace.from_config()\n",
        "print(ws.name, ws.resource_group, ws.location, ws.subscription_id, sep = '\\n')\n",
        "\n",
        "\n",
        "# Default datastore (Azure blob storage)\n",
        "def_blob_store = ws.get_default_datastore()\n",
        "#def_blob_store = Datastore(ws, \"workspaceblobstore\")\n",
        "print(\"Blobstore's name: {}\".format(def_blob_store.name))\n",
        "#Upload file to datastore\n",
        "\n",
        "# Use a CSV to read in the data set.\n",
        "file_name = \"../data/rawdata/train.csv\"\n",
        "\n",
        "if not os.path.exists(file_name):\n",
        "    raise Exception(\n",
        "        'Could not find CSV dataset at \"%s\". '\n",
        "        % file_name\n",
        "    )  # NOQA: E50\n",
        "# Upload file to default datastore in workspace"
      ]
    },
    {
      "attachments": {},
      "cell_type": "markdown",
      "metadata": {},
      "source": [
        "# Uploading data to blob storage"
      ]
    },
    {
      "cell_type": "code",
      "execution_count": 84,
      "metadata": {
        "gather": {
          "logged": 1670961575665
        },
        "vscode": {
          "languageId": "python"
        }
      },
      "outputs": [
        {
          "name": "stdout",
          "output_type": "stream",
          "text": [
            "found existing compute target.\n"
          ]
        }
      ],
      "source": [
        "target_path = \"training-data/\"\n",
        "def_blob_store.upload_files(\n",
        "    files=[file_name],\n",
        "    target_path=target_path,\n",
        "    overwrite=True,\n",
        "    show_progress=False,\n",
        ")\n",
        "\n",
        "blob_input_data = DataReference(\n",
        "    datastore=def_blob_store,\n",
        "    data_reference_name=\"test_data\",\n",
        "    path_on_datastore=\"training-data/train.csv\")\n",
        "\n",
        "\n",
        "aml_compute = getOrCreateCompute(ws)\n",
        "run_config = createRunConfig(ws)\n",
        "#processed_data1 = PipelineData(\"processed_data1\",datastore=def_blob_store)\n",
        "models_data = PipelineData(\"models_data\",datastore=def_blob_store)"
      ]
    },
    {
      "cell_type": "markdown",
      "metadata": {},
      "source": [
        "## Preprocess step"
      ]
    },
    {
      "cell_type": "code",
      "execution_count": 85,
      "metadata": {
        "gather": {
          "logged": 1670961575794
        },
        "vscode": {
          "languageId": "python"
        }
      },
      "outputs": [],
      "source": [
        "source_directory=\"../src/preprocess/\"\n",
        "preprocess_step = PythonScriptStep(\n",
        "    script_name=\"preprocess.py\", \n",
        "    arguments=[\"--data\", blob_input_data],\n",
        "    inputs=[blob_input_data],\n",
        "    compute_target=aml_compute, \n",
        "    source_directory=source_directory,\n",
        "    runconfig=run_config,\n",
        "    allow_reuse=True\n",
        ")"
      ]
    },
    {
      "cell_type": "code",
      "execution_count": 86,
      "metadata": {
        "vscode": {
          "languageId": "python"
        }
      },
      "outputs": [
        {
          "data": {
            "text/plain": [
              "<azureml.pipeline.core.pipeline.Pipeline at 0x7fd5a218ee50>"
            ]
          },
          "execution_count": 86,
          "metadata": {},
          "output_type": "execute_result"
        }
      ],
      "source": [
        "from azureml.pipeline.core import Pipeline\n",
        "Pipeline(ws, [preprocess_step])"
      ]
    },
    {
      "attachments": {},
      "cell_type": "markdown",
      "metadata": {},
      "source": [
        "## Training step"
      ]
    },
    {
      "cell_type": "code",
      "execution_count": 87,
      "metadata": {
        "gather": {
          "logged": 1670961575919
        },
        "vscode": {
          "languageId": "python"
        }
      },
      "outputs": [],
      "source": [
        "source_directory=\"../src/train/\"\n",
        "train_step = PythonScriptStep(\n",
        "    name=\"Train Model\",\n",
        "    script_name=\"train.py\",\n",
        "    compute_target=aml_compute,\n",
        "    source_directory=source_directory,\n",
        "    outputs=[models_data],\n",
        "    arguments=[\n",
        "        \"--model\",\n",
        "        models_data\n",
        "    ],\n",
        "    runconfig=run_config,\n",
        "    allow_reuse=False,\n",
        ")"
      ]
    },
    {
      "attachments": {},
      "cell_type": "markdown",
      "metadata": {},
      "source": [
        "## Validation step"
      ]
    },
    {
      "cell_type": "code",
      "execution_count": 88,
      "metadata": {
        "gather": {
          "logged": 1670961576044
        },
        "vscode": {
          "languageId": "python"
        }
      },
      "outputs": [],
      "source": [
        "source_directory=\"../src/evaluation/\"\n",
        "evaluate_step = PythonScriptStep(\n",
        "    name=\"Evaluate Model \",\n",
        "    script_name=\"eval.py\",\n",
        "    compute_target=aml_compute,\n",
        "    source_directory=source_directory,\n",
        "    inputs=[models_data],\n",
        "    arguments=[\n",
        "        \"--model_path\",\n",
        "        models_data,\n",
        "    ],\n",
        "    runconfig=run_config,\n",
        "    allow_reuse=False,\n",
        ")"
      ]
    },
    {
      "attachments": {},
      "cell_type": "markdown",
      "metadata": {},
      "source": [
        "# Pipeline creation"
      ]
    },
    {
      "cell_type": "code",
      "execution_count": 89,
      "metadata": {
        "gather": {
          "logged": 1670961750727
        },
        "vscode": {
          "languageId": "python"
        }
      },
      "outputs": [],
      "source": [
        "from azureml.pipeline.core import Pipeline\n",
        "train_step.run_after(preprocess_step)\n",
        "evaluate_step.run_after(train_step)\n",
        "steps = [preprocess_step,train_step, evaluate_step]\n",
        "\n",
        "train_pipeline = Pipeline(workspace=ws, steps=steps)\n",
        "#train_pipeline._set_experiment_name\n"
      ]
    },
    {
      "cell_type": "code",
      "execution_count": 90,
      "metadata": {
        "gather": {
          "logged": 1670961582316
        },
        "vscode": {
          "languageId": "python"
        }
      },
      "outputs": [
        {
          "name": "stdout",
          "output_type": "stream",
          "text": [
            "Created step preprocess.py [e49eb4ab][2c63d416-1b63-40da-a0f6-5f6e2a4067b1], (This step is eligible to reuse a previous run's output)\n",
            "Created step Train Model [d791a49a][7ca2f8ce-f336-4ff6-b7d3-e401ca5a0cef], (This step will run and generate new outputs)\n",
            "Created step Evaluate Model  [5938d295][28fa0393-7e81-4441-af92-fba48aad6584], (This step will run and generate new outputs)\n",
            "Using data reference test_data for StepId [5d8b7444][ee17b8e7-aad7-4670-a604-b0b5a122ca4f], (Consumers of this data are eligible to reuse prior runs.)\n",
            "Submitted PipelineRun 0416612c-07cb-4379-8b8b-7968c4934b2e\n",
            "Link to Azure Machine Learning Portal: https://ml.azure.com/runs/0416612c-07cb-4379-8b8b-7968c4934b2e?wsid=/subscriptions/f90533aa-280d-40b9-9949-a7ba0ee9511f/resourcegroups/mlops-rg/workspaces/mlops-aml-ws&tid=e99647dc-1b08-454a-bf8c-699181b389ab\n"
          ]
        }
      ],
      "source": [
        "pipeline_run1 = Experiment(ws, 'titanic-pipeline').submit(train_pipeline)"
      ]
    },
    {
      "cell_type": "code",
      "execution_count": 91,
      "metadata": {
        "gather": {
          "logged": 1670961582327
        },
        "vscode": {
          "languageId": "python"
        }
      },
      "outputs": [
        {
          "name": "stdout",
          "output_type": "stream",
          "text": [
            "PipelineRunId: 0416612c-07cb-4379-8b8b-7968c4934b2e\n",
            "Link to Azure Machine Learning Portal: https://ml.azure.com/runs/0416612c-07cb-4379-8b8b-7968c4934b2e?wsid=/subscriptions/f90533aa-280d-40b9-9949-a7ba0ee9511f/resourcegroups/mlops-rg/workspaces/mlops-aml-ws&tid=e99647dc-1b08-454a-bf8c-699181b389ab\n",
            "PipelineRun Status: NotStarted\n",
            "PipelineRun Status: Running\n"
          ]
        },
        {
          "name": "stderr",
          "output_type": "stream",
          "text": [
            "Expected a StepRun object but received <class 'azureml.core.run.Run'> instead.\n",
            "This usually indicates a package conflict with one of the dependencies of azureml-core or azureml-pipeline-core.\n",
            "Please check for package conflicts in your python environment\n"
          ]
        },
        {
          "name": "stdout",
          "output_type": "stream",
          "text": [
            "\n",
            "\n",
            "\n"
          ]
        },
        {
          "name": "stderr",
          "output_type": "stream",
          "text": [
            "Expected a StepRun object but received <class 'azureml.core.run.Run'> instead.\n",
            "This usually indicates a package conflict with one of the dependencies of azureml-core or azureml-pipeline-core.\n",
            "Please check for package conflicts in your python environment\n"
          ]
        },
        {
          "name": "stdout",
          "output_type": "stream",
          "text": [
            "\n",
            "\n",
            "\n",
            "\n",
            "PipelineRun Execution Summary\n",
            "==============================\n",
            "PipelineRun Status: Failed\n"
          ]
        },
        {
          "ename": "ActivityFailedException",
          "evalue": "ActivityFailedException:\n\tMessage: Activity Failed:\n{\n    \"error\": {\n        \"code\": \"UserError\",\n        \"message\": \"Pipeline has some failed steps. See child run or execution logs for more details.\",\n        \"messageFormat\": \"Pipeline has some failed steps. {0}\",\n        \"messageParameters\": {},\n        \"referenceCode\": \"PipelineHasStepJobFailed\",\n        \"details\": []\n    },\n    \"environment\": \"westeurope\",\n    \"location\": \"westeurope\",\n    \"time\": \"2022-12-15T16:42:59.71229Z\",\n    \"componentName\": \"\"\n}\n\tInnerException None\n\tErrorResponse \n{\n    \"error\": {\n        \"message\": \"Activity Failed:\\n{\\n    \\\"error\\\": {\\n        \\\"code\\\": \\\"UserError\\\",\\n        \\\"message\\\": \\\"Pipeline has some failed steps. See child run or execution logs for more details.\\\",\\n        \\\"messageFormat\\\": \\\"Pipeline has some failed steps. {0}\\\",\\n        \\\"messageParameters\\\": {},\\n        \\\"referenceCode\\\": \\\"PipelineHasStepJobFailed\\\",\\n        \\\"details\\\": []\\n    },\\n    \\\"environment\\\": \\\"westeurope\\\",\\n    \\\"location\\\": \\\"westeurope\\\",\\n    \\\"time\\\": \\\"2022-12-15T16:42:59.71229Z\\\",\\n    \\\"componentName\\\": \\\"\\\"\\n}\"\n    }\n}",
          "output_type": "error",
          "traceback": [
            "\u001b[0;31m---------------------------------------------------------------------------\u001b[0m",
            "\u001b[0;31mActivityFailedException\u001b[0m                   Traceback (most recent call last)",
            "\u001b[1;32m/home/azureuser/cloudfiles/code/Users/giosue.cotugno/mlops_titanic/notebooks/mlops-ci.ipynb Cell 21\u001b[0m in \u001b[0;36m<cell line: 1>\u001b[0;34m()\u001b[0m\n\u001b[0;32m----> <a href='vscode-notebook-cell://amlext%2B2f737562736372697074696f6e732f66393035333361612d323830642d343062392d393934392d6137626130656539353131662f7265736f7572636547726f7570732f6d6c6f70732d52472f70726f7669646572732f4d6963726f736f66742e4d616368696e654c6561726e696e6753657276696365732f776f726b7370616365732f6d6c6f70732d414d4c2d57532f636f6d70757465732f74657374636f7475/home/azureuser/cloudfiles/code/Users/giosue.cotugno/mlops_titanic/notebooks/mlops-ci.ipynb#X25sdnNjb2RlLXJlbW90ZQ%3D%3D?line=0'>1</a>\u001b[0m pipeline_run1\u001b[39m.\u001b[39;49mwait_for_completion(show_output\u001b[39m=\u001b[39;49m\u001b[39mTrue\u001b[39;49;00m)\n",
            "File \u001b[0;32m/anaconda/envs/azureml_py38/lib/python3.8/site-packages/azureml/pipeline/core/run.py:353\u001b[0m, in \u001b[0;36mPipelineRun.wait_for_completion\u001b[0;34m(self, show_output, timeout_seconds, raise_on_error)\u001b[0m\n\u001b[1;32m    351\u001b[0m error \u001b[39m=\u001b[39m final_details\u001b[39m.\u001b[39mget(\u001b[39m\"\u001b[39m\u001b[39merror\u001b[39m\u001b[39m\"\u001b[39m)\n\u001b[1;32m    352\u001b[0m \u001b[39mif\u001b[39;00m error \u001b[39mand\u001b[39;00m raise_on_error:\n\u001b[0;32m--> 353\u001b[0m     \u001b[39mraise\u001b[39;00m ActivityFailedException(error_details\u001b[39m=\u001b[39mjson\u001b[39m.\u001b[39mdumps(error, indent\u001b[39m=\u001b[39m\u001b[39m4\u001b[39m))\n\u001b[1;32m    355\u001b[0m \u001b[39mif\u001b[39;00m show_output:\n\u001b[1;32m    356\u001b[0m     \u001b[39mprint\u001b[39m(final_details)\n",
            "\u001b[0;31mActivityFailedException\u001b[0m: ActivityFailedException:\n\tMessage: Activity Failed:\n{\n    \"error\": {\n        \"code\": \"UserError\",\n        \"message\": \"Pipeline has some failed steps. See child run or execution logs for more details.\",\n        \"messageFormat\": \"Pipeline has some failed steps. {0}\",\n        \"messageParameters\": {},\n        \"referenceCode\": \"PipelineHasStepJobFailed\",\n        \"details\": []\n    },\n    \"environment\": \"westeurope\",\n    \"location\": \"westeurope\",\n    \"time\": \"2022-12-15T16:42:59.71229Z\",\n    \"componentName\": \"\"\n}\n\tInnerException None\n\tErrorResponse \n{\n    \"error\": {\n        \"message\": \"Activity Failed:\\n{\\n    \\\"error\\\": {\\n        \\\"code\\\": \\\"UserError\\\",\\n        \\\"message\\\": \\\"Pipeline has some failed steps. See child run or execution logs for more details.\\\",\\n        \\\"messageFormat\\\": \\\"Pipeline has some failed steps. {0}\\\",\\n        \\\"messageParameters\\\": {},\\n        \\\"referenceCode\\\": \\\"PipelineHasStepJobFailed\\\",\\n        \\\"details\\\": []\\n    },\\n    \\\"environment\\\": \\\"westeurope\\\",\\n    \\\"location\\\": \\\"westeurope\\\",\\n    \\\"time\\\": \\\"2022-12-15T16:42:59.71229Z\\\",\\n    \\\"componentName\\\": \\\"\\\"\\n}\"\n    }\n}"
          ]
        }
      ],
      "source": [
        "pipeline_run1.wait_for_completion(show_output=True)"
      ]
    }
  ],
  "metadata": {
    "kernel_info": {
      "name": "python3"
    },
    "kernelspec": {
      "display_name": "Python 3 (ipykernel)",
      "language": "python",
      "name": "python3"
    },
    "nteract": {
      "version": "nteract-front-end@1.0.0"
    },
    "orig_nbformat": 4,
    "vscode": {
      "interpreter": {
        "hash": "6d65a8c07f5b6469e0fc613f182488c0dccce05038bbda39e5ac9075c0454d11"
      }
    }
  },
  "nbformat": 4,
  "nbformat_minor": 2
}
