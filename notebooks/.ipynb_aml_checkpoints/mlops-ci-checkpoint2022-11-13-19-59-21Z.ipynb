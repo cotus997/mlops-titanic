{
 "cells": [
  {
   "attachments": {},
   "cell_type": "markdown",
   "metadata": {},
   "source": [
    "# imports"
   ]
  },
  {
   "cell_type": "code",
   "execution_count": 21,
   "metadata": {},
   "outputs": [],
   "source": [
    "from azureml.core import Workspace\n",
    "\n",
    "\n",
    "from azureml.data.data_reference import DataReference\n",
    "from azureml.pipeline.core import Pipeline, PipelineData\n",
    "from azureml.pipeline.steps import PythonScriptStep\n",
    "import os\n",
    "\n",
    "from azureml.core import Workspace,Environment, Experiment\n",
    "from azureml.core.conda_dependencies import CondaDependencies\n",
    "\n",
    "\n",
    "from azureml.core.runconfig import RunConfiguration\n"
   ]
  },
  {
   "attachments": {},
   "cell_type": "markdown",
   "metadata": {},
   "source": [
    "# Defining utility function"
   ]
  },
  {
   "cell_type": "code",
   "execution_count": 35,
   "metadata": {},
   "outputs": [],
   "source": [
    "def getOrCreateCompute(ws:Workspace):\n",
    "    \n",
    "    from azureml.core.compute import AmlCompute\n",
    "    from azureml.core.compute import ComputeTarget\n",
    "    from azureml.core.compute_target import ComputeTargetException\n",
    "\n",
    "    aml_compute_target = \"testcot\"\n",
    "    try:\n",
    "        aml_compute = AmlCompute(ws, aml_compute_target)\n",
    "        print(\"found existing compute target.\")\n",
    "    except ComputeTargetException:\n",
    "        print(\"creating new compute target\")\n",
    "\n",
    "        provisioning_config = AmlCompute.provisioning_configuration(vm_size = \"STANDARD_D2_V2\",\n",
    "                                                                    min_nodes = 0, \n",
    "                                                                    max_nodes = 4)    \n",
    "        aml_compute = ComputeTarget.create(ws, aml_compute_target, provisioning_config)\n",
    "        aml_compute.wait_for_completion(show_output=True, min_node_count=None, timeout_in_minutes=20)\n",
    "    finally:\n",
    "        return aml_compute"
   ]
  },
  {
   "cell_type": "code",
   "execution_count": 34,
   "metadata": {},
   "outputs": [],
   "source": [
    "def createRunConfig()-> RunConfiguration:\n",
    "    \n",
    "    from azure.ai.ml import MLClient\n",
    "    from azure.identity import DefaultAzureCredential\n",
    "    # create a new runconfig object\n",
    "    run_config = RunConfiguration()\n",
    "    mlclient= MLClient.from_config(DefaultAzureCredential())\n",
    "    env = mlclient.environments.get(name=\"titanic-env\", version=\"1\")\n",
    "    \n",
    "    run_config.environment=env\n",
    "\n",
    "    \n",
    "\n",
    "    return run_config"
   ]
  },
  {
   "attachments": {},
   "cell_type": "markdown",
   "metadata": {},
   "source": [
    "# Build dev pipeline"
   ]
  },
  {
   "cell_type": "code",
   "execution_count": 24,
   "metadata": {},
   "outputs": [
    {
     "name": "stdout",
     "output_type": "stream",
     "text": [
      "mlops-aml-ws\n",
      "mlops-rg\n",
      "westeurope\n",
      "f90533aa-280d-40b9-9949-a7ba0ee9511f\n",
      "Blobstore's name: workspaceblobstore\n"
     ]
    }
   ],
   "source": [
    "ws = Workspace.from_config()\n",
    "print(ws.name, ws.resource_group, ws.location, ws.subscription_id, sep = '\\n')\n",
    "\n",
    "\n",
    "# Default datastore (Azure blob storage)\n",
    "def_blob_store = ws.get_default_datastore()\n",
    "#def_blob_store = Datastore(ws, \"workspaceblobstore\")\n",
    "print(\"Blobstore's name: {}\".format(def_blob_store.name))\n",
    "#Upload file to datastore\n",
    "\n",
    "# Use a CSV to read in the data set.\n",
    "file_name = \"../data/rawdata/train.csv\"\n",
    "\n",
    "if not os.path.exists(file_name):\n",
    "    raise Exception(\n",
    "        'Could not find CSV dataset at \"%s\". '\n",
    "        % file_name\n",
    "    )  # NOQA: E50\n",
    "# Upload file to default datastore in workspace"
   ]
  },
  {
   "attachments": {},
   "cell_type": "markdown",
   "metadata": {},
   "source": [
    "# Uploading data to blob storage"
   ]
  },
  {
   "cell_type": "code",
   "execution_count": 25,
   "metadata": {},
   "outputs": [
    {
     "name": "stderr",
     "output_type": "stream",
     "text": [
      "Found the config file in: /config.json\n"
     ]
    },
    {
     "name": "stdout",
     "output_type": "stream",
     "text": [
      "found existing compute target.\n"
     ]
    }
   ],
   "source": [
    "target_path = \"training-data/\"\n",
    "def_blob_store.upload_files(\n",
    "    files=[file_name],\n",
    "    target_path=target_path,\n",
    "    overwrite=True,\n",
    "    show_progress=False,\n",
    ")\n",
    "\n",
    "blob_input_data = DataReference(\n",
    "    datastore=def_blob_store,\n",
    "    data_reference_name=\"test_data\",\n",
    "    path_on_datastore=\"training-data/train.csv\")\n",
    "\n",
    "\n",
    "aml_compute = getOrCreateCompute(ws)\n",
    "run_config = createRunConfig()\n",
    "#processed_data1 = PipelineData(\"processed_data1\",datastore=def_blob_store)\n",
    "train_data = PipelineData(\"train_data1\",datastore=def_blob_store)"
   ]
  },
  {
   "cell_type": "markdown",
   "metadata": {},
   "source": [
    "## Preprocess step"
   ]
  },
  {
   "cell_type": "code",
   "execution_count": 26,
   "metadata": {},
   "outputs": [],
   "source": [
    "source_directory=\"../src/preprocess/\"\n",
    "preprocess_step = PythonScriptStep(\n",
    "    script_name=\"preprocess.py\", \n",
    "    arguments=[\"--data\", blob_input_data],\n",
    "    inputs=[blob_input_data],\n",
    "    compute_target=aml_compute, \n",
    "    source_directory=source_directory,\n",
    "    runconfig=run_config\n",
    ")"
   ]
  },
  {
   "attachments": {},
   "cell_type": "markdown",
   "metadata": {},
   "source": [
    "## Training step"
   ]
  },
  {
   "cell_type": "code",
   "execution_count": 27,
   "metadata": {},
   "outputs": [],
   "source": [
    "source_directory=\"../src/train/\"\n",
    "train_step = PythonScriptStep(\n",
    "    name=\"Train Model\",\n",
    "    script_name=\"train.py\",\n",
    "    compute_target=aml_compute,\n",
    "    source_directory=source_directory,\n",
    "    outputs=[train_data],\n",
    "    arguments=[\n",
    "        \"--model\",\n",
    "        train_data\n",
    "    ],\n",
    "    runconfig=run_config,\n",
    "    allow_reuse=True,\n",
    ")"
   ]
  },
  {
   "attachments": {},
   "cell_type": "markdown",
   "metadata": {},
   "source": [
    "## Validation step"
   ]
  },
  {
   "cell_type": "code",
   "execution_count": 28,
   "metadata": {},
   "outputs": [],
   "source": [
    "source_directory=\"../src/evaluation/\"\n",
    "evaluate_step = PythonScriptStep(\n",
    "    name=\"Evaluate Model \",\n",
    "    script_name=\"eval.py\",\n",
    "    compute_target=aml_compute,\n",
    "    source_directory=source_directory,\n",
    "    inputs=[train_data],\n",
    "    arguments=[\n",
    "        \"--model_path\",\n",
    "        train_data,\n",
    "    ],\n",
    "    runconfig=run_config,\n",
    "    allow_reuse=False,\n",
    ")"
   ]
  },
  {
   "attachments": {},
   "cell_type": "markdown",
   "metadata": {},
   "source": [
    "# Pipeline creation"
   ]
  },
  {
   "cell_type": "code",
   "execution_count": 33,
   "metadata": {},
   "outputs": [
    {
     "ename": "AttributeError",
     "evalue": "'Environment' object has no attribute 'python'",
     "output_type": "error",
     "traceback": [
      "\u001b[0;31m---------------------------------------------------------------------------\u001b[0m",
      "\u001b[0;31mAttributeError\u001b[0m                            Traceback (most recent call last)",
      "\u001b[1;32m/home/azureuser/cloudfiles/code/Users/giosue.cotugno/mlops_titanic/notebooks/mlops-ci.ipynb Cell 17\u001b[0m in \u001b[0;36m<cell line: 5>\u001b[0;34m()\u001b[0m\n\u001b[1;32m      <a href='vscode-notebook-cell://amlext%2B2f737562736372697074696f6e732f66393035333361612d323830642d343062392d393934392d6137626130656539353131662f7265736f7572636547726f7570732f6d6c6f70732d52472f70726f7669646572732f4d6963726f736f66742e4d616368696e654c6561726e696e6753657276696365732f776f726b7370616365732f6d6c6f70732d414d4c2d57532f636f6d70757465732f74657374636f7475/home/azureuser/cloudfiles/code/Users/giosue.cotugno/mlops_titanic/notebooks/mlops-ci.ipynb#X31sdnNjb2RlLXJlbW90ZQ%3D%3D?line=1'>2</a>\u001b[0m evaluate_step\u001b[39m.\u001b[39mrun_after(train_step)\n\u001b[1;32m      <a href='vscode-notebook-cell://amlext%2B2f737562736372697074696f6e732f66393035333361612d323830642d343062392d393934392d6137626130656539353131662f7265736f7572636547726f7570732f6d6c6f70732d52472f70726f7669646572732f4d6963726f736f66742e4d616368696e654c6561726e696e6753657276696365732f776f726b7370616365732f6d6c6f70732d414d4c2d57532f636f6d70757465732f74657374636f7475/home/azureuser/cloudfiles/code/Users/giosue.cotugno/mlops_titanic/notebooks/mlops-ci.ipynb#X31sdnNjb2RlLXJlbW90ZQ%3D%3D?line=2'>3</a>\u001b[0m steps \u001b[39m=\u001b[39m [preprocess_step,train_step, evaluate_step]\n\u001b[0;32m----> <a href='vscode-notebook-cell://amlext%2B2f737562736372697074696f6e732f66393035333361612d323830642d343062392d393934392d6137626130656539353131662f7265736f7572636547726f7570732f6d6c6f70732d52472f70726f7669646572732f4d6963726f736f66742e4d616368696e654c6561726e696e6753657276696365732f776f726b7370616365732f6d6c6f70732d414d4c2d57532f636f6d70757465732f74657374636f7475/home/azureuser/cloudfiles/code/Users/giosue.cotugno/mlops_titanic/notebooks/mlops-ci.ipynb#X31sdnNjb2RlLXJlbW90ZQ%3D%3D?line=4'>5</a>\u001b[0m train_pipeline \u001b[39m=\u001b[39m Pipeline(workspace\u001b[39m=\u001b[39;49mws, steps\u001b[39m=\u001b[39;49msteps)\n",
      "File \u001b[0;32m/anaconda/envs/azureml_py38/lib/python3.8/site-packages/azureml/core/_experiment_method.py:104\u001b[0m, in \u001b[0;36mexperiment_method.<locals>.real_decorator.<locals>.wrapper\u001b[0;34m(self, *args, **kwargs)\u001b[0m\n\u001b[1;32m     93\u001b[0m \u001b[39m\"\"\"\u001b[39;00m\n\u001b[1;32m     94\u001b[0m \u001b[39m:param init_func:\u001b[39;00m\n\u001b[1;32m     95\u001b[0m \u001b[39m:type init_func: object\u001b[39;00m\n\u001b[0;32m   (...)\u001b[0m\n\u001b[1;32m    101\u001b[0m \u001b[39m:rtype: object\u001b[39;00m\n\u001b[1;32m    102\u001b[0m \u001b[39m\"\"\"\u001b[39;00m\n\u001b[1;32m    103\u001b[0m ExperimentSubmitRegistrar\u001b[39m.\u001b[39mregister_submit_function(\u001b[39mself\u001b[39m\u001b[39m.\u001b[39m\u001b[39m__class__\u001b[39m, submit_function)\n\u001b[0;32m--> 104\u001b[0m \u001b[39mreturn\u001b[39;00m init_func(\u001b[39mself\u001b[39;49m, \u001b[39m*\u001b[39;49margs, \u001b[39m*\u001b[39;49m\u001b[39m*\u001b[39;49mkwargs)\n",
      "File \u001b[0;32m/anaconda/envs/azureml_py38/lib/python3.8/site-packages/azureml/pipeline/core/pipeline.py:180\u001b[0m, in \u001b[0;36mPipeline.__init__\u001b[0;34m(self, workspace, steps, description, default_datastore, default_source_directory, resolve_closure, _workflow_provider, _service_endpoint, **kwargs)\u001b[0m\n\u001b[1;32m    178\u001b[0m         \u001b[39mraise\u001b[39;00m \u001b[39mValueError\u001b[39;00m(\u001b[39m'\u001b[39m\u001b[39mparameter \u001b[39m\u001b[39m%s\u001b[39;00m\u001b[39m is not recognized for Pipeline \u001b[39m\u001b[39m'\u001b[39m \u001b[39m%\u001b[39m key)\n\u001b[1;32m    179\u001b[0m \u001b[39mself\u001b[39m\u001b[39m.\u001b[39m_enable_email_notification \u001b[39m=\u001b[39m enable_email_notification\n\u001b[0;32m--> 180\u001b[0m \u001b[39mself\u001b[39m\u001b[39m.\u001b[39m_graph \u001b[39m=\u001b[39m \u001b[39mself\u001b[39;49m\u001b[39m.\u001b[39;49m_graph_builder\u001b[39m.\u001b[39;49mbuild(\u001b[39mself\u001b[39;49m\u001b[39m.\u001b[39;49m_name, steps, finalize\u001b[39m=\u001b[39;49m\u001b[39mFalse\u001b[39;49;00m)\n",
      "File \u001b[0;32m/anaconda/envs/azureml_py38/lib/python3.8/site-packages/azureml/pipeline/core/builder.py:1497\u001b[0m, in \u001b[0;36m_PipelineGraphBuilder.build\u001b[0;34m(self, name, steps, finalize, regenerate_outputs)\u001b[0m\n\u001b[1;32m   1493\u001b[0m     \u001b[39mexcept\u001b[39;00m HttpOperationError:\n\u001b[1;32m   1494\u001b[0m         \u001b[39m# If the workspace does not have a default datastore, keep default_datastore unset\u001b[39;00m\n\u001b[1;32m   1495\u001b[0m         \u001b[39mpass\u001b[39;00m\n\u001b[0;32m-> 1497\u001b[0m graph \u001b[39m=\u001b[39m \u001b[39mself\u001b[39;49m\u001b[39m.\u001b[39;49mconstruct(name, steps)\n\u001b[1;32m   1498\u001b[0m \u001b[39mif\u001b[39;00m finalize:\n\u001b[1;32m   1499\u001b[0m     graph\u001b[39m.\u001b[39mfinalize(regenerate_outputs\u001b[39m=\u001b[39mregenerate_outputs)\n",
      "File \u001b[0;32m/anaconda/envs/azureml_py38/lib/python3.8/site-packages/azureml/pipeline/core/builder.py:1519\u001b[0m, in \u001b[0;36m_PipelineGraphBuilder.construct\u001b[0;34m(self, name, steps)\u001b[0m\n\u001b[1;32m   1517\u001b[0m \u001b[39mself\u001b[39m\u001b[39m.\u001b[39m_graph \u001b[39m=\u001b[39m Graph(name, \u001b[39mself\u001b[39m\u001b[39m.\u001b[39m_context)\n\u001b[1;32m   1518\u001b[0m \u001b[39mself\u001b[39m\u001b[39m.\u001b[39m_nodeStack\u001b[39m.\u001b[39mappend([])\n\u001b[0;32m-> 1519\u001b[0m \u001b[39mself\u001b[39;49m\u001b[39m.\u001b[39;49mprocess_collection(steps)\n\u001b[1;32m   1520\u001b[0m \u001b[39mfor\u001b[39;00m builder \u001b[39min\u001b[39;00m \u001b[39mself\u001b[39m\u001b[39m.\u001b[39m_builderStack[::\u001b[39m-\u001b[39m\u001b[39m1\u001b[39m]:\n\u001b[1;32m   1521\u001b[0m     builder\u001b[39m.\u001b[39mapply_rules()\n",
      "File \u001b[0;32m/anaconda/envs/azureml_py38/lib/python3.8/site-packages/azureml/pipeline/core/builder.py:1555\u001b[0m, in \u001b[0;36m_PipelineGraphBuilder.process_collection\u001b[0;34m(self, collection)\u001b[0m\n\u001b[1;32m   1553\u001b[0m \u001b[39mself\u001b[39m\u001b[39m.\u001b[39m_nodeStack\u001b[39m.\u001b[39mappend([])\n\u001b[1;32m   1554\u001b[0m \u001b[39mself\u001b[39m\u001b[39m.\u001b[39m_builderStack\u001b[39m.\u001b[39mappend(builder)\n\u001b[0;32m-> 1555\u001b[0m builder\u001b[39m.\u001b[39;49mprocess_collection(collection)\n\u001b[1;32m   1556\u001b[0m added_nodes \u001b[39m=\u001b[39m \u001b[39mself\u001b[39m\u001b[39m.\u001b[39m_nodeStack\u001b[39m.\u001b[39mpop()\n\u001b[1;32m   1557\u001b[0m \u001b[39mself\u001b[39m\u001b[39m.\u001b[39m_nodeStack[\u001b[39m-\u001b[39m\u001b[39m1\u001b[39m]\u001b[39m.\u001b[39mextend(added_nodes)\n",
      "File \u001b[0;32m/anaconda/envs/azureml_py38/lib/python3.8/site-packages/azureml/pipeline/core/builder.py:1846\u001b[0m, in \u001b[0;36m_ParallelPipelineGraphBuilder.process_collection\u001b[0;34m(self, collection)\u001b[0m\n\u001b[1;32m   1839\u001b[0m \u001b[39m\"\"\"\u001b[39;00m\n\u001b[1;32m   1840\u001b[0m \u001b[39mProcess collection.\u001b[39;00m\n\u001b[1;32m   1841\u001b[0m \n\u001b[1;32m   1842\u001b[0m \u001b[39m:param collection: The collection of nodes.\u001b[39;00m\n\u001b[1;32m   1843\u001b[0m \u001b[39m:type collection: builtin.list\u001b[39;00m\n\u001b[1;32m   1844\u001b[0m \u001b[39m\"\"\"\u001b[39;00m\n\u001b[1;32m   1845\u001b[0m \u001b[39mfor\u001b[39;00m item \u001b[39min\u001b[39;00m collection:\n\u001b[0;32m-> 1846\u001b[0m     \u001b[39mself\u001b[39;49m\u001b[39m.\u001b[39;49m_base_builder\u001b[39m.\u001b[39;49mprocess_collection(item)\n",
      "File \u001b[0;32m/anaconda/envs/azureml_py38/lib/python3.8/site-packages/azureml/pipeline/core/builder.py:1549\u001b[0m, in \u001b[0;36m_PipelineGraphBuilder.process_collection\u001b[0;34m(self, collection)\u001b[0m\n\u001b[1;32m   1547\u001b[0m \u001b[39m# just a step?\u001b[39;00m\n\u001b[1;32m   1548\u001b[0m \u001b[39mif\u001b[39;00m \u001b[39misinstance\u001b[39m(collection, PipelineStep):\n\u001b[0;32m-> 1549\u001b[0m     \u001b[39mreturn\u001b[39;00m \u001b[39mself\u001b[39;49m\u001b[39m.\u001b[39;49mprocess_step(collection)\n\u001b[1;32m   1551\u001b[0m \u001b[39m# delegate to correct builder\u001b[39;00m\n\u001b[1;32m   1552\u001b[0m builder \u001b[39m=\u001b[39m \u001b[39mself\u001b[39m\u001b[39m.\u001b[39mcreate_builder(collection)\n",
      "File \u001b[0;32m/anaconda/envs/azureml_py38/lib/python3.8/site-packages/azureml/pipeline/core/builder.py:1593\u001b[0m, in \u001b[0;36m_PipelineGraphBuilder.process_step\u001b[0;34m(self, step)\u001b[0m\n\u001b[1;32m   1590\u001b[0m \u001b[39mif\u001b[39;00m step \u001b[39min\u001b[39;00m \u001b[39mself\u001b[39m\u001b[39m.\u001b[39m_step2node:\n\u001b[1;32m   1591\u001b[0m     \u001b[39mreturn\u001b[39;00m \u001b[39mself\u001b[39m\u001b[39m.\u001b[39m_step2node[step]\n\u001b[0;32m-> 1593\u001b[0m node \u001b[39m=\u001b[39m step\u001b[39m.\u001b[39;49mcreate_node(\u001b[39mself\u001b[39;49m\u001b[39m.\u001b[39;49m_graph, \u001b[39mself\u001b[39;49m\u001b[39m.\u001b[39;49m_default_datastore, \u001b[39mself\u001b[39;49m\u001b[39m.\u001b[39;49m_context)\n\u001b[1;32m   1594\u001b[0m \u001b[39mself\u001b[39m\u001b[39m.\u001b[39massert_node_valid(step, \u001b[39mself\u001b[39m\u001b[39m.\u001b[39m_graph, node)\n\u001b[1;32m   1596\u001b[0m \u001b[39mself\u001b[39m\u001b[39m.\u001b[39m_step2node[step] \u001b[39m=\u001b[39m node\n",
      "File \u001b[0;32m/anaconda/envs/azureml_py38/lib/python3.8/site-packages/azureml/pipeline/steps/python_script_step.py:243\u001b[0m, in \u001b[0;36mPythonScriptStep.create_node\u001b[0;34m(self, graph, default_datastore, context)\u001b[0m\n\u001b[1;32m    224\u001b[0m \u001b[39mdef\u001b[39;00m \u001b[39mcreate_node\u001b[39m(\u001b[39mself\u001b[39m, graph, default_datastore, context):\n\u001b[1;32m    225\u001b[0m     \u001b[39m\"\"\"\u001b[39;00m\n\u001b[1;32m    226\u001b[0m \u001b[39m    Create a node for PythonScriptStep and add it to the specified graph.\u001b[39;00m\n\u001b[1;32m    227\u001b[0m \n\u001b[0;32m   (...)\u001b[0m\n\u001b[1;32m    241\u001b[0m \u001b[39m    :rtype: azureml.pipeline.core.graph.Node\u001b[39;00m\n\u001b[1;32m    242\u001b[0m \u001b[39m    \"\"\"\u001b[39;00m\n\u001b[0;32m--> 243\u001b[0m     \u001b[39mreturn\u001b[39;00m \u001b[39msuper\u001b[39;49m(PythonScriptStep, \u001b[39mself\u001b[39;49m)\u001b[39m.\u001b[39;49mcreate_node(\n\u001b[1;32m    244\u001b[0m         graph\u001b[39m=\u001b[39;49mgraph, default_datastore\u001b[39m=\u001b[39;49mdefault_datastore, context\u001b[39m=\u001b[39;49mcontext)\n",
      "File \u001b[0;32m/anaconda/envs/azureml_py38/lib/python3.8/site-packages/azureml/pipeline/core/_python_script_step_base.py:156\u001b[0m, in \u001b[0;36m_PythonScriptStepBase.create_node\u001b[0;34m(self, graph, default_datastore, context)\u001b[0m\n\u001b[1;32m    152\u001b[0m \u001b[39mif\u001b[39;00m \u001b[39mself\u001b[39m\u001b[39m.\u001b[39m_runconfig \u001b[39mis\u001b[39;00m \u001b[39mNone\u001b[39;00m:\n\u001b[1;32m    153\u001b[0m     \u001b[39mself\u001b[39m\u001b[39m.\u001b[39m_runconfig \u001b[39m=\u001b[39m _PythonScriptStepBase\u001b[39m.\u001b[39m_generate_default_runconfig(compute_target_type)\n\u001b[1;32m    155\u001b[0m node \u001b[39m=\u001b[39m graph\u001b[39m.\u001b[39madd_module_node(\u001b[39mself\u001b[39m\u001b[39m.\u001b[39mname, input_bindings, output_bindings, \u001b[39mself\u001b[39m\u001b[39m.\u001b[39m_params,\n\u001b[0;32m--> 156\u001b[0m                              module_builder\u001b[39m=\u001b[39mmodule_builder, runconfig\u001b[39m=\u001b[39m\u001b[39mrepr\u001b[39;49m(\u001b[39mself\u001b[39;49m\u001b[39m.\u001b[39;49m_runconfig))\n\u001b[1;32m    158\u001b[0m \u001b[39m# module parameters not set in self._params are set on the node\u001b[39;00m\n\u001b[1;32m    159\u001b[0m \u001b[39mself\u001b[39m\u001b[39m.\u001b[39m_set_compute_params_to_node(node,\n\u001b[1;32m    160\u001b[0m                                  compute_target_name,\n\u001b[1;32m    161\u001b[0m                                  compute_target_type,\n\u001b[1;32m    162\u001b[0m                                  compute_target_object)\n",
      "File \u001b[0;32m/anaconda/envs/azureml_py38/lib/python3.8/site-packages/azureml/core/runconfig.py:1351\u001b[0m, in \u001b[0;36mRunConfiguration.__repr__\u001b[0;34m(self)\u001b[0m\n\u001b[1;32m   1345\u001b[0m \u001b[39mdef\u001b[39;00m \u001b[39m__repr__\u001b[39m(\u001b[39mself\u001b[39m):\n\u001b[1;32m   1346\u001b[0m     \u001b[39m\"\"\"Return the string representation of the RunConfiguration object.\u001b[39;00m\n\u001b[1;32m   1347\u001b[0m \n\u001b[1;32m   1348\u001b[0m \u001b[39m    :return: String representation of the RunConfiguration object\u001b[39;00m\n\u001b[1;32m   1349\u001b[0m \u001b[39m    :rtype: str\u001b[39;00m\n\u001b[1;32m   1350\u001b[0m \u001b[39m    \"\"\"\u001b[39;00m\n\u001b[0;32m-> 1351\u001b[0m     run_config_dict \u001b[39m=\u001b[39m _serialize_to_dict(\u001b[39mself\u001b[39;49m)\n\u001b[1;32m   1352\u001b[0m     \u001b[39mreturn\u001b[39;00m json\u001b[39m.\u001b[39mdumps(run_config_dict, indent\u001b[39m=\u001b[39m\u001b[39m4\u001b[39m)\n",
      "File \u001b[0;32m/anaconda/envs/azureml_py38/lib/python3.8/site-packages/azureml/core/_serialization_utils.py:44\u001b[0m, in \u001b[0;36m_serialize_to_dict\u001b[0;34m(entity, use_commented_map)\u001b[0m\n\u001b[1;32m     42\u001b[0m name \u001b[39m=\u001b[39m to_camel_case(serialized_name)\n\u001b[1;32m     43\u001b[0m \u001b[39mif\u001b[39;00m \u001b[39mhasattr\u001b[39m(field_info\u001b[39m.\u001b[39mfield_type, \u001b[39m\"\u001b[39m\u001b[39m_serialize_to_dict\u001b[39m\u001b[39m\"\u001b[39m):\n\u001b[0;32m---> 44\u001b[0m     result[name] \u001b[39m=\u001b[39m field_info\u001b[39m.\u001b[39;49mfield_type\u001b[39m.\u001b[39;49m_serialize_to_dict(\n\u001b[1;32m     45\u001b[0m         entity\u001b[39m.\u001b[39;49m\u001b[39m__dict__\u001b[39;49m[key], use_commented_map\u001b[39m=\u001b[39;49muse_commented_map)\n\u001b[1;32m     46\u001b[0m \u001b[39melse\u001b[39;00m:\n\u001b[1;32m     47\u001b[0m     result[name] \u001b[39m=\u001b[39m _serialize_to_dict(\n\u001b[1;32m     48\u001b[0m         entity\u001b[39m.\u001b[39m\u001b[39m__dict__\u001b[39m[key], use_commented_map\u001b[39m=\u001b[39muse_commented_map)\n",
      "File \u001b[0;32m/anaconda/envs/azureml_py38/lib/python3.8/site-packages/azureml/core/environment.py:1685\u001b[0m, in \u001b[0;36mEnvironment._serialize_to_dict\u001b[0;34m(environment, use_commented_map)\u001b[0m\n\u001b[1;32m   1681\u001b[0m \u001b[39m# _serialization_utils._serialize_to_dict does not serialize condadependencies correctly.\u001b[39;00m\n\u001b[1;32m   1682\u001b[0m \u001b[39m# Hence the work around to copy this in to the env object\u001b[39;00m\n\u001b[1;32m   1684\u001b[0m \u001b[39mif\u001b[39;00m environment \u001b[39mis\u001b[39;00m \u001b[39mnot\u001b[39;00m \u001b[39mNone\u001b[39;00m \u001b[39mand\u001b[39;00m \u001b[39mnot\u001b[39;00m \u001b[39misinstance\u001b[39m(environment, EnvironmentReference):\n\u001b[0;32m-> 1685\u001b[0m     \u001b[39mif\u001b[39;00m environment\u001b[39m.\u001b[39;49mpython\u001b[39m.\u001b[39mconda_dependencies \u001b[39mis\u001b[39;00m \u001b[39mnot\u001b[39;00m \u001b[39mNone\u001b[39;00m:\n\u001b[1;32m   1686\u001b[0m         inline \u001b[39m=\u001b[39m environment\u001b[39m.\u001b[39mpython\u001b[39m.\u001b[39mconda_dependencies\u001b[39m.\u001b[39m_conda_dependencies\n\u001b[1;32m   1687\u001b[0m         environment_dict[\u001b[39m\"\u001b[39m\u001b[39mpython\u001b[39m\u001b[39m\"\u001b[39m][\u001b[39m\"\u001b[39m\u001b[39mcondaDependencies\u001b[39m\u001b[39m\"\u001b[39m] \u001b[39m=\u001b[39m inline\n",
      "\u001b[0;31mAttributeError\u001b[0m: 'Environment' object has no attribute 'python'"
     ]
    }
   ],
   "source": [
    "train_step.run_after(preprocess_step)\n",
    "evaluate_step.run_after(train_step)\n",
    "steps = [preprocess_step,train_step, evaluate_step]\n",
    "\n",
    "train_pipeline = Pipeline(workspace=ws, steps=steps)\n",
    "#train_pipeline._set_experiment_name\n"
   ]
  },
  {
   "cell_type": "code",
   "execution_count": null,
   "metadata": {},
   "outputs": [],
   "source": [
    "pipeline_run1 = Experiment(ws, 'titanic-pipeline').submit(train_pipeline)"
   ]
  },
  {
   "cell_type": "code",
   "execution_count": null,
   "metadata": {},
   "outputs": [],
   "source": [
    "pipeline_run1.wait_for_completion(show_output=True)"
   ]
  },
  {
   "cell_type": "code",
   "execution_count": null,
   "metadata": {},
   "outputs": [],
   "source": [
    "# import required libraries\n",
    "from azure.ai.ml import MLClient\n",
    "from azure.ai.ml.entities import (\n",
    "    ManagedOnlineEndpoint,\n",
    "    ManagedOnlineDeployment,\n",
    "    Model,\n",
    "    Environment,\n",
    "    CodeConfiguration,\n",
    ")\n",
    "from azure.identity import DefaultAzureCredential"
   ]
  },
  {
   "cell_type": "code",
   "execution_count": null,
   "metadata": {},
   "outputs": [],
   "source": [
    "# Creating a local endpoint\n",
    "import datetime\n",
    "\n",
    "local_endpoint_name = \"local-\" + datetime.datetime.now().strftime(\"%m%d%H%M%f\")\n",
    "\n",
    "# create an online endpoint\n",
    "endpoint = ManagedOnlineEndpoint(\n",
    "  name=local_endpoint_name, description=\"this is a sample local endpoint\"\n",
    ")"
   ]
  }
 ],
 "metadata": {
  "kernelspec": {
   "display_name": "azureml_py38",
   "language": "python",
   "name": "python3"
  },
  "language_info": {
   "codemirror_mode": {
    "name": "ipython",
    "version": 3
   },
   "file_extension": ".py",
   "mimetype": "text/x-python",
   "name": "python",
   "nbconvert_exporter": "python",
   "pygments_lexer": "ipython3",
   "version": "3.8.5"
  },
  "orig_nbformat": 4,
  "vscode": {
   "interpreter": {
    "hash": "6d65a8c07f5b6469e0fc613f182488c0dccce05038bbda39e5ac9075c0454d11"
   }
  }
 },
 "nbformat": 4,
 "nbformat_minor": 2
}
