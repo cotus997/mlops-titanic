{
 "cells": [
  {
   "cell_type": "markdown",
   "metadata": {},
   "source": [
    "Logging something on mlflow to retrieve it"
   ]
  },
  {
   "cell_type": "code",
   "execution_count": 2,
   "metadata": {},
   "outputs": [],
   "source": [
    "from azure.ai.ml import MLClient\n",
    "from azure.identity import DefaultAzureCredential\n",
    "import mlflow\n",
    "from azureml.core import Workspace, Dataset\n",
    "import pandas as pd"
   ]
  },
  {
   "cell_type": "code",
   "execution_count": 3,
   "metadata": {},
   "outputs": [
    {
     "name": "stderr",
     "output_type": "stream",
     "text": [
      "Found the config file in: /config.json\n"
     ]
    }
   ],
   "source": [
    "ml_client = MLClient.from_config(credential=DefaultAzureCredential())\n",
    "azureml_mlflow_uri = ml_client.workspaces.get(ml_client.workspace_name).mlflow_tracking_uri\n",
    "mlflow.set_tracking_uri(azureml_mlflow_uri)\n",
    "\n",
    "# Connect to the Workspace\n",
    "ws = Workspace.from_config()\n",
    "\n",
    "# The default datastore is a blob storage container where datasets are stored\n",
    "datastore = ws.get_default_datastore()"
   ]
  },
  {
   "cell_type": "code",
   "execution_count": null,
   "metadata": {},
   "outputs": [
    {
     "data": {
      "text/plain": [
       "<Experiment: artifact_location='', experiment_id='0ed74f1d-0b5a-42a3-b761-2b39bac8b87b', lifecycle_stage='active', name='experiment_with_mlflow', tags={}>"
      ]
     },
     "execution_count": 3,
     "metadata": {},
     "output_type": "execute_result"
    }
   ],
   "source": [
    "experiment_name = 'experiment_with_mlflow'\n",
    "mlflow.set_experiment(experiment_name)"
   ]
  },
  {
   "cell_type": "code",
   "execution_count": null,
   "metadata": {},
   "outputs": [],
   "source": [
    "import os\n",
    "from random import random\n",
    "\n",
    "mlflow.start_run()\n",
    "mlflow.log_param(\"hello_param\", \"world\")\n",
    "mlflow.log_metric(\"hello_metric\", random())\n",
    "os.system(f\"echo 'hello world' > helloworld.txt\")\n",
    "mlflow.log_artifact(\"helloworld.txt\")"
   ]
  },
  {
   "cell_type": "code",
   "execution_count": null,
   "metadata": {},
   "outputs": [
    {
     "data": {
      "text/plain": [
       "<RunInfo: artifact_uri='azureml://experiments/experiment_with_mlflow/runs/f8eeaa57-f975-4743-9e70-5202f9c0ad80/artifacts', end_time=None, experiment_id='0ed74f1d-0b5a-42a3-b761-2b39bac8b87b', lifecycle_stage='active', run_id='f8eeaa57-f975-4743-9e70-5202f9c0ad80', run_uuid='f8eeaa57-f975-4743-9e70-5202f9c0ad80', start_time=1669801474042, status='RUNNING', user_id='0ede9b9c-2b54-4172-a26d-bbeff841eda9'>"
      ]
     },
     "execution_count": 10,
     "metadata": {},
     "output_type": "execute_result"
    }
   ],
   "source": [
    "mlflow.active_run().info.run_id"
   ]
  },
  {
   "cell_type": "code",
   "execution_count": null,
   "metadata": {},
   "outputs": [],
   "source": [
    "mlflow.end_run()"
   ]
  },
  {
   "cell_type": "code",
   "execution_count": null,
   "metadata": {},
   "outputs": [
    {
     "ename": "NameError",
     "evalue": "name 'mlflow_run' is not defined",
     "output_type": "error",
     "traceback": [
      "\u001b[0;31m---------------------------------------------------------------------------\u001b[0m",
      "\u001b[0;31mNameError\u001b[0m                                 Traceback (most recent call last)",
      "\u001b[1;32m/home/azureuser/cloudfiles/code/Users/giosue.cotugno/mlops-titanic/notebooks/pipeline-mlops-test.ipynb Cell 8\u001b[0m in \u001b[0;36m<cell line: 1>\u001b[0;34m()\u001b[0m\n\u001b[0;32m----> <a href='vscode-notebook-cell://amlext%2B2f737562736372697074696f6e732f66393035333361612d323830642d343062392d393934392d6137626130656539353131662f7265736f7572636547726f7570732f6d6c6f70732d52472f70726f7669646572732f4d6963726f736f66742e4d616368696e654c6561726e696e6753657276696365732f776f726b7370616365732f6d6c6f70732d414d4c2d57532f636f6d70757465732f74657374636f7475/home/azureuser/cloudfiles/code/Users/giosue.cotugno/mlops-titanic/notebooks/pipeline-mlops-test.ipynb#X10sdnNjb2RlLXJlbW90ZQ%3D%3D?line=0'>1</a>\u001b[0m mlflow_run\u001b[39m.\u001b[39minfo\n",
      "\u001b[0;31mNameError\u001b[0m: name 'mlflow_run' is not defined"
     ]
    }
   ],
   "source": [
    "mlflow_run.info"
   ]
  },
  {
   "cell_type": "code",
   "execution_count": null,
   "metadata": {},
   "outputs": [],
   "source": [
    "from azureml.core.run import Run\n",
    "run=Run.get_context()"
   ]
  },
  {
   "cell_type": "code",
   "execution_count": null,
   "metadata": {},
   "outputs": [
    {
     "name": "stdout",
     "output_type": "stream",
     "text": [
      "Attempted to log scalar metric pippo:\n",
      "1\n"
     ]
    }
   ],
   "source": [
    "run.log(\"pippo\",1)"
   ]
  },
  {
   "cell_type": "markdown",
   "metadata": {},
   "source": [
    "Retrieving info from mlflow experiment name"
   ]
  },
  {
   "cell_type": "code",
   "execution_count": 6,
   "metadata": {},
   "outputs": [],
   "source": [
    "exp=mlflow.get_experiment_by_name(\"pipeline-exp\")"
   ]
  },
  {
   "cell_type": "code",
   "execution_count": null,
   "metadata": {},
   "outputs": [],
   "source": [
    "import shutil\n",
    "shutil.rmtree(os.path.join(\"../src/train/models/\", \"trained_model\"), ignore_errors=True)"
   ]
  },
  {
   "cell_type": "code",
   "execution_count": null,
   "metadata": {},
   "outputs": [],
   "source": [
    "query = \"params.model = 'CNN' and params.layers = '10' and metrics.`prediction accuracy` >= 0.945\""
   ]
  },
  {
   "cell_type": "code",
   "execution_count": 7,
   "metadata": {},
   "outputs": [],
   "source": [
    "runs=mlflow.search_runs(exp.experiment_id,output_format=\"list\")\n",
    "last_run=runs[-1]"
   ]
  },
  {
   "cell_type": "code",
   "execution_count": 10,
   "metadata": {},
   "outputs": [
    {
     "data": {
      "text/plain": [
       "<Run: data=<RunData: metrics={'num_features_dataset': 7.0, 'num_samples_dataset': 889.0}, params={'dataset_ID': '9973e164-6679-46c8-9b4d-6c8ed97accf2',\n",
       " 'dataset_name': 'Titanic_dataset',\n",
       " 'dataset_version': '9'}, tags={'azureml.nodeid': '8df270ec',\n",
       " 'azureml.pipeline': '482e2b83-1c4a-406d-a5c7-65f7c1aa59c6',\n",
       " 'mlflow.parentRunId': '482e2b83-1c4a-406d-a5c7-65f7c1aa59c6',\n",
       " 'mlflow.rootRunId': '482e2b83-1c4a-406d-a5c7-65f7c1aa59c6',\n",
       " 'mlflow.source.name': 'preprocess.py',\n",
       " 'mlflow.source.type': 'JOB',\n",
       " 'mlflow.user': 'Giosuè Cotugno'}>, info=<RunInfo: artifact_uri='', end_time=1670261638201, experiment_id='ee673d04-85ca-44af-83d7-aa2a95629c42', lifecycle_stage='active', run_id='f1996f53-6915-4640-86b6-57b91b1ac2ab', run_uuid='f1996f53-6915-4640-86b6-57b91b1ac2ab', start_time=1670261448975, status='FINISHED', user_id='Giosuè Cotugno'>>"
      ]
     },
     "execution_count": 10,
     "metadata": {},
     "output_type": "execute_result"
    }
   ],
   "source": [
    "runs[-2]"
   ]
  },
  {
   "cell_type": "code",
   "execution_count": null,
   "metadata": {},
   "outputs": [
    {
     "name": "stdout",
     "output_type": "stream",
     "text": [
      "82a79f85-75da-450f-b97c-152d967ad65a\n",
      "{'metric_eval': 0.15246636771300448} - {'mlflow.user': 'Giosuè Cotugno', 'mlflow.source.name': 'train.py', 'mlflow.source.type': 'LOCAL', 'mlflow.source.git.commit': '68cf695085f0763f50cef109bdd2d2a0b0acfc43', 'dataset_id': '2ec650af-4f83-4009-baaf-e6d1da5adedc', 'mlflow.rootRunId': '82a79f85-75da-450f-b97c-152d967ad65a', 'mlflow.runName': 'calm_root_tqwly63v'} - {'objective': 'binary:logistic', 'base_score': 'None', 'booster': 'None', 'colsample_bylevel': 'None', 'colsample_bynode': 'None', 'colsample_bytree': 'None', 'gamma': 'None', 'gpu_id': 'None', 'interaction_constraints': 'None', 'learning_rate': 'None', 'max_delta_step': 'None', 'max_depth': '5', 'min_child_weight': 'None', 'monotone_constraints': 'None', 'n_jobs': 'None', 'num_parallel_tree': 'None', 'random_state': '0', 'reg_alpha': 'None', 'reg_lambda': 'None', 'scale_pos_weight': 'None', 'subsample': 'None', 'tree_method': 'None', 'validate_parameters': 'None', 'verbosity': 'None', 'eval_metric': 'logloss', 'eta': '0.3', 'num_boost_round': '100', 'early_stopping_rounds': 'None', 'verbose_eval': 'True', 'maximize': 'None'}\n"
     ]
    }
   ],
   "source": [
    "from mlflow.tracking import MlflowClient\n",
    "# Use MlFlow to retrieve the job that was just completed\n",
    "client = MlflowClient()\n",
    "run_id = last_run.info.run_id\n",
    "print(run_id)\n",
    "finished_mlflow_run = MlflowClient().get_run(run_id)\n",
    "\n",
    "metrics = finished_mlflow_run.data.metrics\n",
    "tags = finished_mlflow_run.data.tags\n",
    "params = finished_mlflow_run.data.params\n",
    "\n",
    "print(f'{metrics} - {tags} - {params}')"
   ]
  },
  {
   "cell_type": "code",
   "execution_count": null,
   "metadata": {},
   "outputs": [
    {
     "name": "stdout",
     "output_type": "stream",
     "text": [
      "3bdf3597-23e7-4f3f-b24a-0c60686b739b\n"
     ]
    }
   ],
   "source": [
    "print(params['dataset_ID'])\n",
    "dataset_id=params['dataset_ID']\n",
    "dataset=Dataset.get_by_id(ws,id=dataset_id)"
   ]
  },
  {
   "cell_type": "code",
   "execution_count": null,
   "metadata": {},
   "outputs": [],
   "source": [
    "df=dataset.to_pandas_dataframe()"
   ]
  },
  {
   "cell_type": "code",
   "execution_count": null,
   "metadata": {},
   "outputs": [
    {
     "data": {
      "text/html": [
       "<div>\n",
       "<style scoped>\n",
       "    .dataframe tbody tr th:only-of-type {\n",
       "        vertical-align: middle;\n",
       "    }\n",
       "\n",
       "    .dataframe tbody tr th {\n",
       "        vertical-align: top;\n",
       "    }\n",
       "\n",
       "    .dataframe thead th {\n",
       "        text-align: right;\n",
       "    }\n",
       "</style>\n",
       "<table border=\"1\" class=\"dataframe\">\n",
       "  <thead>\n",
       "    <tr style=\"text-align: right;\">\n",
       "      <th></th>\n",
       "      <th>Survived</th>\n",
       "      <th>Pclass</th>\n",
       "      <th>Sex</th>\n",
       "      <th>Age</th>\n",
       "      <th>SibSp</th>\n",
       "      <th>Parch</th>\n",
       "      <th>Fare</th>\n",
       "      <th>Embarked</th>\n",
       "    </tr>\n",
       "  </thead>\n",
       "  <tbody>\n",
       "    <tr>\n",
       "      <th>0</th>\n",
       "      <td>0</td>\n",
       "      <td>3</td>\n",
       "      <td>male</td>\n",
       "      <td>22.00</td>\n",
       "      <td>1</td>\n",
       "      <td>0</td>\n",
       "      <td>7.2500</td>\n",
       "      <td>S</td>\n",
       "    </tr>\n",
       "    <tr>\n",
       "      <th>1</th>\n",
       "      <td>1</td>\n",
       "      <td>1</td>\n",
       "      <td>female</td>\n",
       "      <td>38.00</td>\n",
       "      <td>1</td>\n",
       "      <td>0</td>\n",
       "      <td>71.2833</td>\n",
       "      <td>C</td>\n",
       "    </tr>\n",
       "    <tr>\n",
       "      <th>2</th>\n",
       "      <td>1</td>\n",
       "      <td>3</td>\n",
       "      <td>female</td>\n",
       "      <td>26.00</td>\n",
       "      <td>0</td>\n",
       "      <td>0</td>\n",
       "      <td>7.9250</td>\n",
       "      <td>S</td>\n",
       "    </tr>\n",
       "    <tr>\n",
       "      <th>3</th>\n",
       "      <td>1</td>\n",
       "      <td>1</td>\n",
       "      <td>female</td>\n",
       "      <td>35.00</td>\n",
       "      <td>1</td>\n",
       "      <td>0</td>\n",
       "      <td>53.1000</td>\n",
       "      <td>S</td>\n",
       "    </tr>\n",
       "    <tr>\n",
       "      <th>4</th>\n",
       "      <td>0</td>\n",
       "      <td>3</td>\n",
       "      <td>male</td>\n",
       "      <td>35.00</td>\n",
       "      <td>0</td>\n",
       "      <td>0</td>\n",
       "      <td>8.0500</td>\n",
       "      <td>S</td>\n",
       "    </tr>\n",
       "    <tr>\n",
       "      <th>...</th>\n",
       "      <td>...</td>\n",
       "      <td>...</td>\n",
       "      <td>...</td>\n",
       "      <td>...</td>\n",
       "      <td>...</td>\n",
       "      <td>...</td>\n",
       "      <td>...</td>\n",
       "      <td>...</td>\n",
       "    </tr>\n",
       "    <tr>\n",
       "      <th>884</th>\n",
       "      <td>0</td>\n",
       "      <td>2</td>\n",
       "      <td>male</td>\n",
       "      <td>27.00</td>\n",
       "      <td>0</td>\n",
       "      <td>0</td>\n",
       "      <td>13.0000</td>\n",
       "      <td>S</td>\n",
       "    </tr>\n",
       "    <tr>\n",
       "      <th>885</th>\n",
       "      <td>1</td>\n",
       "      <td>1</td>\n",
       "      <td>female</td>\n",
       "      <td>19.00</td>\n",
       "      <td>0</td>\n",
       "      <td>0</td>\n",
       "      <td>30.0000</td>\n",
       "      <td>S</td>\n",
       "    </tr>\n",
       "    <tr>\n",
       "      <th>886</th>\n",
       "      <td>0</td>\n",
       "      <td>3</td>\n",
       "      <td>female</td>\n",
       "      <td>25.14</td>\n",
       "      <td>1</td>\n",
       "      <td>2</td>\n",
       "      <td>23.4500</td>\n",
       "      <td>S</td>\n",
       "    </tr>\n",
       "    <tr>\n",
       "      <th>887</th>\n",
       "      <td>1</td>\n",
       "      <td>1</td>\n",
       "      <td>male</td>\n",
       "      <td>26.00</td>\n",
       "      <td>0</td>\n",
       "      <td>0</td>\n",
       "      <td>30.0000</td>\n",
       "      <td>C</td>\n",
       "    </tr>\n",
       "    <tr>\n",
       "      <th>888</th>\n",
       "      <td>0</td>\n",
       "      <td>3</td>\n",
       "      <td>male</td>\n",
       "      <td>32.00</td>\n",
       "      <td>0</td>\n",
       "      <td>0</td>\n",
       "      <td>7.7500</td>\n",
       "      <td>Q</td>\n",
       "    </tr>\n",
       "  </tbody>\n",
       "</table>\n",
       "<p>889 rows × 8 columns</p>\n",
       "</div>"
      ],
      "text/plain": [
       "     Survived  Pclass     Sex    Age  SibSp  Parch     Fare Embarked\n",
       "0           0       3    male  22.00      1      0   7.2500        S\n",
       "1           1       1  female  38.00      1      0  71.2833        C\n",
       "2           1       3  female  26.00      0      0   7.9250        S\n",
       "3           1       1  female  35.00      1      0  53.1000        S\n",
       "4           0       3    male  35.00      0      0   8.0500        S\n",
       "..        ...     ...     ...    ...    ...    ...      ...      ...\n",
       "884         0       2    male  27.00      0      0  13.0000        S\n",
       "885         1       1  female  19.00      0      0  30.0000        S\n",
       "886         0       3  female  25.14      1      2  23.4500        S\n",
       "887         1       1    male  26.00      0      0  30.0000        C\n",
       "888         0       3    male  32.00      0      0   7.7500        Q\n",
       "\n",
       "[889 rows x 8 columns]"
      ]
     },
     "execution_count": 19,
     "metadata": {},
     "output_type": "execute_result"
    }
   ],
   "source": [
    "df"
   ]
  },
  {
   "cell_type": "markdown",
   "metadata": {},
   "source": [
    "# Registering dataset from pandas dataframe"
   ]
  },
  {
   "cell_type": "code",
   "execution_count": null,
   "metadata": {},
   "outputs": [
    {
     "data": {
      "text/plain": [
       "<module 'mlflow' from '/anaconda/envs/azureml_py38/lib/python3.8/site-packages/mlflow/__init__.py'>"
      ]
     },
     "execution_count": 8,
     "metadata": {},
     "output_type": "execute_result"
    }
   ],
   "source": [
    "mlflow"
   ]
  },
  {
   "cell_type": "code",
   "execution_count": null,
   "metadata": {},
   "outputs": [
    {
     "name": "stdout",
     "output_type": "stream",
     "text": [
      "Validating arguments.\n",
      "Arguments validated.\n",
      "Successfully obtained datastore reference and path.\n",
      "Uploading file to managed-dataset/a1c7c2cc-8dc3-4e23-a612-56b89a529170/\n",
      "Successfully uploaded file to datastore.\n",
      "Creating and registering a new dataset.\n",
      "Successfully created and registered a new dataset.\n",
      "Titanic_dataset v1 (ID: 797d5ac0-ecdc-4d19-907e-741af544f910)\n"
     ]
    }
   ],
   "source": [
    "\n",
    "df=pd.read_csv(\"../data/train/data.csv\")\n",
    "# Register the dataset\n",
    "ds = Dataset.Tabular.register_pandas_dataframe(\n",
    "        dataframe=df, \n",
    "        name='Titanic_dataset', \n",
    "        description='dataset containing the survivors from the Titanic disaster',\n",
    "        target=datastore\n",
    "    )\n",
    "\n",
    "# Display information about the dataset\n",
    "print(ds.name + \" v\" + str(ds.version) + ' (ID: ' + ds.id + \")\")"
   ]
  },
  {
   "cell_type": "code",
   "execution_count": null,
   "metadata": {},
   "outputs": [],
   "source": [
    "from azureml.core import Workspace\n",
    "from azureml.core.model import Model as AMLModel"
   ]
  },
  {
   "cell_type": "code",
   "execution_count": null,
   "metadata": {},
   "outputs": [],
   "source": [
    "def get_model(\n",
    "    model_name: str,\n",
    "    model_version: int = None,  # If none, return latest model\n",
    "    tag_name: str = None,\n",
    "    tag_value: str = None,\n",
    "    aml_workspace: Workspace = None\n",
    ") -> AMLModel:\n",
    "    \"\"\"\n",
    "    Retrieves and returns a model from the workspace by its name\n",
    "    and (optional) tag.\n",
    "\n",
    "    Parameters:\n",
    "    aml_workspace (Workspace): aml.core Workspace that the model lives.\n",
    "    model_name (str): name of the model we are looking for\n",
    "    (optional) model_version (str): model version. Latest if not provided.\n",
    "    (optional) tag (str): the tag value & name the model was registered under.\n",
    "\n",
    "    Return:\n",
    "    A single aml model from the workspace that matches the name and tag, or\n",
    "    None.\n",
    "    \"\"\"\n",
    "    if aml_workspace is None:\n",
    "        print(\"No workspace defined - using current experiment workspace.\")\n",
    "        aml_workspace = get_current_workspace()\n",
    "\n",
    "    tags = None\n",
    "    if tag_name is not None or tag_value is not None:\n",
    "        # Both a name and value must be specified to use tags.\n",
    "        if tag_name is None or tag_value is None:\n",
    "            raise ValueError(\n",
    "                \"model_tag_name and model_tag_value should both be supplied\"\n",
    "                + \"or excluded\"  # NOQA: E501\n",
    "            )\n",
    "        tags = [[tag_name, tag_value]]\n",
    "\n",
    "    model = None\n",
    "    if model_version is not None:\n",
    "        # TODO(tcare): Finding a specific version currently expects exceptions\n",
    "        # to propagate in the case we can't find the model. This call may\n",
    "        # result in a WebserviceException that may or may not be due to the\n",
    "        # model not existing.\n",
    "        model = AMLModel(\n",
    "            aml_workspace,\n",
    "            name=model_name,\n",
    "            version=model_version,\n",
    "            tags=tags)\n",
    "    else:\n",
    "        models = AMLModel.list(\n",
    "            aml_workspace, name=model_name, tags=tags, latest=True)\n",
    "        if len(models) == 1:\n",
    "            model = models[0]\n",
    "        elif len(models) > 1:\n",
    "            raise Exception(\"Expected only one model\")\n",
    "\n",
    "    return model"
   ]
  },
  {
   "cell_type": "code",
   "execution_count": null,
   "metadata": {},
   "outputs": [
    {
     "data": {
      "text/plain": [
       "Model(workspace=Workspace.create(name='mlops-aml-ws', subscription_id='f90533aa-280d-40b9-9949-a7ba0ee9511f', resource_group='mlops-rg'), name=xgb, id=xgb:1, version=1, tags={}, properties={'flavors.python_function': '{\\n  \"loader_module\": \"mlflow.xgboost\",\\n  \"python_version\": \"3.8.5\",\\n  \"data\": \"model.xgb\",\\n  \"env\": \"conda.yaml\"\\n}', 'flavors.xgboost': '{\\n  \"xgb_version\": \"1.3.3\",\\n  \"data\": \"model.xgb\",\\n  \"model_class\": \"xgboost.sklearn.XGBClassifier\",\\n  \"code\": null\\n}', 'flavors': 'python_function,xgboost', 'azureml.artifactPrefix': 'ExperimentRun/dcid.b1b5edba-154c-4b71-af74-b64294080b27/xgb', 'model_json': '{\"run_id\": \"b1b5edba-154c-4b71-af74-b64294080b27\", \"artifact_path\": \"xgb\", \"utc_time_created\": \"2022-11-22 12:03:01.252041\", \"flavors\": {\"python_function\": {\"loader_module\": \"mlflow.xgboost\", \"python_version\": \"3.8.5\", \"data\": \"model.xgb\", \"env\": \"conda.yaml\"}, \"xgboost\": {\"xgb_version\": \"1.3.3\", \"data\": \"model.xgb\", \"model_class\": \"xgboost.sklearn.XGBClassifier\", \"code\": null}}, \"model_uuid\": \"c7c04212638d48d7bec8520dc487ad55\", \"mlflow_version\": \"1.28.0\"}', 'azureml.storagePath': 'ExperimentRun/dcid.b1b5edba-154c-4b71-af74-b64294080b27/xgb', 'mlflow.modelSourceUri': 'azureml://experiments/Default/runs/b1b5edba-154c-4b71-af74-b64294080b27/artifacts/xgb'})"
      ]
     },
     "execution_count": 8,
     "metadata": {},
     "output_type": "execute_result"
    }
   ],
   "source": [
    "get_model(\"xgb\",aml_workspace=ws)"
   ]
  },
  {
   "cell_type": "code",
   "execution_count": null,
   "metadata": {},
   "outputs": [],
   "source": []
  },
  {
   "cell_type": "code",
   "execution_count": null,
   "metadata": {},
   "outputs": [],
   "source": [
    "def register_aml_model(\n",
    "    model_path,\n",
    "    model_name,\n",
    "    model_tags,\n",
    "    exp,\n",
    "    run_id,\n",
    "    dataset_id\n",
    "):\n",
    "    try:\n",
    "        tagsValue = {\"area\": \"titanic_classification\",\n",
    "                     \"run_id\": run_id,\n",
    "                     \"experiment_name\": exp.name}\n",
    "        tagsValue.update(model_tags)\n",
    "        \n",
    "\n",
    "        model = AMLModel.register(\n",
    "            workspace=exp.workspace,\n",
    "            model_name=model_name,\n",
    "            model_path=model_path,\n",
    "            tags=tagsValue,\n",
    "            datasets=[('training data',\n",
    "                       Dataset.get_by_id(exp.workspace, dataset_id))])\n",
    "        os.chdir(\"..\")\n",
    "        print(\n",
    "            \"Model registered: {} \\nModel Description: {} \"\n",
    "            \"\\nModel Version: {}\".format(\n",
    "                model.name, model.description, model.version\n",
    "            )\n",
    "        )\n",
    "    except Exception:\n",
    "        traceback.print_exc(limit=None, file=None, chain=True)\n",
    "        print(\"Model registration failed\")\n",
    "        raise"
   ]
  },
  {
   "cell_type": "code",
   "execution_count": null,
   "metadata": {},
   "outputs": [
    {
     "data": {
      "text/plain": [
       "XGBClassifier(base_score=0.5, booster='gbtree', colsample_bylevel=1,\n",
       "              colsample_bynode=1, colsample_bytree=1, eta=0.3, gamma=0,\n",
       "              gpu_id=-1, importance_type='gain', interaction_constraints='',\n",
       "              learning_rate=0.300000012, max_delta_step=0, max_depth=6,\n",
       "              min_child_weight=1, missing=nan, monotone_constraints='()',\n",
       "              n_estimators=100, n_jobs=1, num_parallel_tree=1,\n",
       "              objective='binary:logistic', random_state=42, reg_alpha=0,\n",
       "              reg_lambda=1, scale_pos_weight=1, subsample=1, tree_method='auto',\n",
       "              use_label_encoder=True, validate_parameters=1, verbosity=None)"
      ]
     },
     "execution_count": 14,
     "metadata": {},
     "output_type": "execute_result"
    }
   ],
   "source": [
    "mlflow.xgboost.load_model(\"azureml://experiments/Default/runs/b1b5edba-154c-4b71-af74-b64294080b27/artifacts/xgb\")"
   ]
  },
  {
   "cell_type": "markdown",
   "metadata": {},
   "source": [
    "# Environment creation"
   ]
  },
  {
   "cell_type": "code",
   "execution_count": 20,
   "metadata": {},
   "outputs": [],
   "source": [
    "from azureml.core import Environment\n",
    "from azureml.core.environment import CondaDependencies\n",
    "from azureml.core.workspace import Workspace\n",
    "from azureml.core import ScriptRunConfig, Experiment\n",
    "from azureml.core.compute import AmlCompute\n",
    "from azureml.core.compute import ComputeTarget"
   ]
  },
  {
   "cell_type": "code",
   "execution_count": 3,
   "metadata": {},
   "outputs": [
    {
     "data": {
      "text/plain": [
       "{'id': '/subscriptions/f90533aa-280d-40b9-9949-a7ba0ee9511f/resourceGroups/mlops-RG/providers/Microsoft.MachineLearningServices/workspaces/mlops-AML-WS',\n",
       " 'name': 'mlops-AML-WS',\n",
       " 'identity': {'principal_id': '75cf7e0a-b2ab-41a4-81a6-c6fc9f4e1474',\n",
       "  'tenant_id': 'e99647dc-1b08-454a-bf8c-699181b389ab',\n",
       "  'type': 'SystemAssigned'},\n",
       " 'location': 'westeurope',\n",
       " 'type': 'Microsoft.MachineLearningServices/workspaces',\n",
       " 'tags': {},\n",
       " 'sku': 'Basic',\n",
       " 'workspaceid': 'c2d20a6a-b6c3-4509-b119-72420da93433',\n",
       " 'sdkTelemetryAppInsightsKey': '6d7b2b55-6d18-4126-a3ee-251f78cfa6e5',\n",
       " 'description': '',\n",
       " 'friendlyName': 'mlops-AML-WS',\n",
       " 'containerRegistry': '/subscriptions/f90533aa-280d-40b9-9949-a7ba0ee9511f/resourceGroups/mlops-RG/providers/Microsoft.ContainerRegistry/registries/cotuamlcr',\n",
       " 'keyVault': '/subscriptions/f90533aa-280d-40b9-9949-a7ba0ee9511f/resourceGroups/mlops-RG/providers/Microsoft.Keyvault/vaults/cotu-AML-KV',\n",
       " 'applicationInsights': '/subscriptions/f90533aa-280d-40b9-9949-a7ba0ee9511f/resourceGroups/mlops-RG/providers/Microsoft.insights/components/cotu-AML-AI',\n",
       " 'storageAccount': '/subscriptions/f90533aa-280d-40b9-9949-a7ba0ee9511f/resourceGroups/mlops-RG/providers/Microsoft.Storage/storageAccounts/cotuamlsa',\n",
       " 'hbiWorkspace': False,\n",
       " 'provisioningState': 'Succeeded',\n",
       " 'discoveryUrl': 'https://westeurope.api.azureml.ms/discovery',\n",
       " 'notebookInfo': {'fqdn': 'ml-mlops-aml-ws-westeurope-c2d20a6a-b6c3-4509-b119-72420da93433.westeurope.notebooks.azure.net',\n",
       "  'resource_id': '68f23e33460b4651a68b38d1b43d4173'},\n",
       " 'v1LegacyMode': False}"
      ]
     },
     "execution_count": 3,
     "metadata": {},
     "output_type": "execute_result"
    }
   ],
   "source": [
    "ws = Workspace.from_config()\n",
    "ws.get_details()"
   ]
  },
  {
   "cell_type": "code",
   "execution_count": 44,
   "metadata": {},
   "outputs": [
    {
     "name": "stdout",
     "output_type": "stream",
     "text": [
      "total 0\n",
      "drwxrwxrwx 2 root root 0 Nov 15 09:39 Users\n"
     ]
    },
    {
     "data": {
      "text/plain": [
       "0"
      ]
     },
     "execution_count": 44,
     "metadata": {},
     "output_type": "execute_result"
    }
   ],
   "source": [
    "os.system(\"ls -l\")"
   ]
  },
  {
   "cell_type": "code",
   "execution_count": 13,
   "metadata": {},
   "outputs": [],
   "source": [
    "BASE_DIR='/home/azureuser/cloudfiles/code/Users/giosue.cotugno/mlops-titanic'"
   ]
  },
  {
   "cell_type": "code",
   "execution_count": 59,
   "metadata": {},
   "outputs": [],
   "source": [
    "myenv = Environment(name=\"myenv\")\n",
    "conda_dep = CondaDependencies(conda_dependencies_file_path=os.path.join(BASE_DIR,'mlservice/pipeline/ci_dependencies.yml'))\n",
    "myenv.python.conda_dependencies=conda_dep"
   ]
  },
  {
   "cell_type": "code",
   "execution_count": 38,
   "metadata": {},
   "outputs": [],
   "source": [
    "myexp = Experiment(workspace=ws, name = \"environment-example\")\n",
    "os.path.join(BASE_DIR,'data/rawdata/train.csv')\n",
    "data=os.path.join(BASE_DIR,'data/rawdata/train.csv')"
   ]
  },
  {
   "cell_type": "code",
   "execution_count": 39,
   "metadata": {},
   "outputs": [
    {
     "name": "stdout",
     "output_type": "stream",
     "text": [
      "found existing compute target.\n"
     ]
    }
   ],
   "source": [
    "aml_compute_target = \"testcotu\"\n",
    "try:\n",
    "    aml_compute = AmlCompute(ws, aml_compute_target)\n",
    "    print(\"found existing compute target.\")\n",
    "except ComputeTargetException:\n",
    "    print(\"creating new compute target\")"
   ]
  },
  {
   "cell_type": "code",
   "execution_count": 52,
   "metadata": {},
   "outputs": [
    {
     "data": {
      "text/plain": [
       "0"
      ]
     },
     "execution_count": 52,
     "metadata": {},
     "output_type": "execute_result"
    }
   ],
   "source": [
    "os.system(\"cd Users/giosue.cotugno/mlops-titanic/src/preprocess/\")"
   ]
  },
  {
   "cell_type": "code",
   "execution_count": 54,
   "metadata": {},
   "outputs": [
    {
     "name": "stdout",
     "output_type": "stream",
     "text": [
      "Users\n"
     ]
    },
    {
     "data": {
      "text/plain": [
       "0"
      ]
     },
     "execution_count": 54,
     "metadata": {},
     "output_type": "execute_result"
    }
   ],
   "source": [
    "os.system(\"ls\")"
   ]
  },
  {
   "cell_type": "code",
   "execution_count": 61,
   "metadata": {},
   "outputs": [
    {
     "name": "stdout",
     "output_type": "stream",
     "text": [
      "RunId: environment-example_1670252367_408dd8e2\n",
      "Web View: https://ml.azure.com/runs/environment-example_1670252367_408dd8e2?wsid=/subscriptions/f90533aa-280d-40b9-9949-a7ba0ee9511f/resourcegroups/mlops-rg/workspaces/mlops-aml-ws&tid=e99647dc-1b08-454a-bf8c-699181b389ab\n",
      "\n",
      "Streaming user_logs/std_log.txt\n",
      "===============================\n",
      "\n",
      "MSI: Failed to retrieve a token from 'identity-responder-not-enabled/?resource=https://management.core.windows.net/&api-version=2017-09-01' with an error of 'No connection adapters were found for 'identity-responder-not-enabled/?resource=https://management.core.windows.net/&api-version=2017-09-01''.\n",
      "Performing interactive authentication. Please follow the instructions on the terminal.\n",
      "To sign in, use a web browser to open the page https://microsoft.com/devicelogin and enter the code CC2TCA2N4 to authenticate.\n",
      "Interactive authentication successfully completed.\n",
      "data=None experiment_name=titanic output_data=None\n",
      "input data: None\n",
      "Cleaning up all outstanding Run operations, waiting 300.0 seconds\n",
      "1 items cleaning up...\n",
      "Cleanup took 0.06885910034179688 seconds\n",
      "Traceback (most recent call last):\n",
      "  File \"Users/giosue.cotugno/mlops-titanic/src/preprocess/preprocess.py\", line 180, in <module>\n",
      "    main()\n",
      "  File \"Users/giosue.cotugno/mlops-titanic/src/preprocess/preprocess.py\", line 69, in main\n",
      "    df = pd.read_csv(args.data)\n",
      "  File \"/azureml-envs/azureml_22e5fdfe1dd161d6192ee16d8e919d76/lib/python3.7/site-packages/pandas/util/_decorators.py\", line 311, in wrapper\n",
      "    return func(*args, **kwargs)\n",
      "  File \"/azureml-envs/azureml_22e5fdfe1dd161d6192ee16d8e919d76/lib/python3.7/site-packages/pandas/io/parsers/readers.py\", line 586, in read_csv\n",
      "    return _read(filepath_or_buffer, kwds)\n",
      "  File \"/azureml-envs/azureml_22e5fdfe1dd161d6192ee16d8e919d76/lib/python3.7/site-packages/pandas/io/parsers/readers.py\", line 482, in _read\n",
      "    parser = TextFileReader(filepath_or_buffer, **kwds)\n",
      "  File \"/azureml-envs/azureml_22e5fdfe1dd161d6192ee16d8e919d76/lib/python3.7/site-packages/pandas/io/parsers/readers.py\", line 811, in __init__\n",
      "    self._engine = self._make_engine(self.engine)\n",
      "  File \"/azureml-envs/azureml_22e5fdfe1dd161d6192ee16d8e919d76/lib/python3.7/site-packages/pandas/io/parsers/readers.py\", line 1040, in _make_engine\n",
      "    return mapping[engine](self.f, **self.options)  # type: ignore[call-arg]\n",
      "  File \"/azureml-envs/azureml_22e5fdfe1dd161d6192ee16d8e919d76/lib/python3.7/site-packages/pandas/io/parsers/c_parser_wrapper.py\", line 51, in __init__\n",
      "    self._open_handles(src, kwds)\n",
      "  File \"/azureml-envs/azureml_22e5fdfe1dd161d6192ee16d8e919d76/lib/python3.7/site-packages/pandas/io/parsers/base_parser.py\", line 229, in _open_handles\n",
      "    errors=kwds.get(\"encoding_errors\", \"strict\"),\n",
      "  File \"/azureml-envs/azureml_22e5fdfe1dd161d6192ee16d8e919d76/lib/python3.7/site-packages/pandas/io/common.py\", line 614, in get_handle\n",
      "    storage_options=storage_options,\n",
      "  File \"/azureml-envs/azureml_22e5fdfe1dd161d6192ee16d8e919d76/lib/python3.7/site-packages/pandas/io/common.py\", line 396, in _get_filepath_or_buffer\n",
      "    raise ValueError(msg)\n",
      "ValueError: Invalid file path or buffer object type: <class 'NoneType'>\n",
      "\n",
      "\n",
      "Execution Summary\n",
      "=================\n",
      "RunId: environment-example_1670252367_408dd8e2\n",
      "Web View: https://ml.azure.com/runs/environment-example_1670252367_408dd8e2?wsid=/subscriptions/f90533aa-280d-40b9-9949-a7ba0ee9511f/resourcegroups/mlops-rg/workspaces/mlops-aml-ws&tid=e99647dc-1b08-454a-bf8c-699181b389ab\n",
      "\n",
      "Warnings:\n",
      "AzureMLCompute job failed.\n",
      "ExecutionFailed: [REDACTED]\n",
      "\texit_codes: 1\n",
      "\n"
     ]
    },
    {
     "ename": "ActivityFailedException",
     "evalue": "ActivityFailedException:\n\tMessage: Activity Failed:\n{\n    \"error\": {\n        \"code\": \"UserError\",\n        \"message\": \"{\\\"NonCompliant\\\":\\\"Process '/azureml-envs/azureml_22e5fdfe1dd161d6192ee16d8e919d76/bin/python' exited with code 1 and error message 'Execution failed. Process exited with status code 1. Error:   File \\\\\\\"/azureml-envs/azureml_22e5fdfe1dd161d6192ee16d8e919d76/lib/python3.7/site-packages/pandas/util/_decorators.py\\\\\\\", line 311, in wrapper\\\\n    return func(*args, **kwargs)\\\\n  File \\\\\\\"/azureml-envs/azureml_22e5fdfe1dd161d6192ee16d8e919d76/lib/python3.7/site-packages/pandas/io/parsers/readers.py\\\\\\\", line 586, in read_csv\\\\n    return _read(filepath_or_buffer, kwds)\\\\n  File \\\\\\\"/azureml-envs/azureml_22e5fdfe1dd161d6192ee16d8e919d76/lib/python3.7/site-packages/pandas/io/parsers/readers.py\\\\\\\", line 482, in _read\\\\n    parser = TextFileReader(filepath_or_buffer, **kwds)\\\\n  File \\\\\\\"/azureml-envs/azureml_22e5fdfe1dd161d6192ee16d8e919d76/lib/python3.7/site-packages/pandas/io/parsers/readers.py\\\\\\\", line 811, in __init__\\\\n    self._engine = self._make_engine(self.engine)\\\\n  File \\\\\\\"/azureml-envs/azureml_22e5fdfe1dd161d6192ee16d8e919d76/lib/python3.7/site-packages/pandas/io/parsers/readers.py\\\\\\\", line 1040, in _make_engine\\\\n    return mapping[engine](self.f, **self.options)  # type: ignore[call-arg]\\\\n  File \\\\\\\"/azureml-envs/azureml_22e5fdfe1dd161d6192ee16d8e919d76/lib/python3.7/site-packages/pandas/io/parsers/c_parser_wrapper.py\\\\\\\", line 51, in __init__\\\\n    self._open_handles(src, kwds)\\\\n  File \\\\\\\"/azureml-envs/azureml_22e5fdfe1dd161d6192ee16d8e919d76/lib/python3.7/site-packages/pandas/io/parsers/base_parser.py\\\\\\\", line 229, in _open_handles\\\\n    errors=kwds.get(\\\\\\\"encoding_errors\\\\\\\", \\\\\\\"strict\\\\\\\"),\\\\n  File \\\\\\\"/azureml-envs/azureml_22e5fdfe1dd161d6192ee16d8e919d76/lib/python3.7/site-packages/pandas/io/common.py\\\\\\\", line 614, in get_handle\\\\n    storage_options=storage_options,\\\\n  File \\\\\\\"/azureml-envs/azureml_22e5fdfe1dd161d6192ee16d8e919d76/lib/python3.7/site-packages/pandas/io/common.py\\\\\\\", line 396, in _get_filepath_or_buffer\\\\n    raise ValueError(msg)\\\\nValueError: Invalid file path or buffer object type: <class 'NoneType'>\\\\n\\\\n'. Please check the log file 'user_logs/std_log.txt' for more details.\\\"}\\n{\\n  \\\"code\\\": \\\"ExecutionFailed\\\",\\n  \\\"target\\\": \\\"\\\",\\n  \\\"category\\\": \\\"UserError\\\",\\n  \\\"error_details\\\": [\\n    {\\n      \\\"key\\\": \\\"exit_codes\\\",\\n      \\\"value\\\": \\\"1\\\"\\n    }\\n  ]\\n}\",\n        \"messageParameters\": {},\n        \"details\": []\n    },\n    \"time\": \"0001-01-01T00:00:00.000Z\"\n}\n\tInnerException None\n\tErrorResponse \n{\n    \"error\": {\n        \"message\": \"Activity Failed:\\n{\\n    \\\"error\\\": {\\n        \\\"code\\\": \\\"UserError\\\",\\n        \\\"message\\\": \\\"{\\\\\\\"NonCompliant\\\\\\\":\\\\\\\"Process '/azureml-envs/azureml_22e5fdfe1dd161d6192ee16d8e919d76/bin/python' exited with code 1 and error message 'Execution failed. Process exited with status code 1. Error:   File \\\\\\\\\\\\\\\"/azureml-envs/azureml_22e5fdfe1dd161d6192ee16d8e919d76/lib/python3.7/site-packages/pandas/util/_decorators.py\\\\\\\\\\\\\\\", line 311, in wrapper\\\\\\\\n    return func(*args, **kwargs)\\\\\\\\n  File \\\\\\\\\\\\\\\"/azureml-envs/azureml_22e5fdfe1dd161d6192ee16d8e919d76/lib/python3.7/site-packages/pandas/io/parsers/readers.py\\\\\\\\\\\\\\\", line 586, in read_csv\\\\\\\\n    return _read(filepath_or_buffer, kwds)\\\\\\\\n  File \\\\\\\\\\\\\\\"/azureml-envs/azureml_22e5fdfe1dd161d6192ee16d8e919d76/lib/python3.7/site-packages/pandas/io/parsers/readers.py\\\\\\\\\\\\\\\", line 482, in _read\\\\\\\\n    parser = TextFileReader(filepath_or_buffer, **kwds)\\\\\\\\n  File \\\\\\\\\\\\\\\"/azureml-envs/azureml_22e5fdfe1dd161d6192ee16d8e919d76/lib/python3.7/site-packages/pandas/io/parsers/readers.py\\\\\\\\\\\\\\\", line 811, in __init__\\\\\\\\n    self._engine = self._make_engine(self.engine)\\\\\\\\n  File \\\\\\\\\\\\\\\"/azureml-envs/azureml_22e5fdfe1dd161d6192ee16d8e919d76/lib/python3.7/site-packages/pandas/io/parsers/readers.py\\\\\\\\\\\\\\\", line 1040, in _make_engine\\\\\\\\n    return mapping[engine](self.f, **self.options)  # type: ignore[call-arg]\\\\\\\\n  File \\\\\\\\\\\\\\\"/azureml-envs/azureml_22e5fdfe1dd161d6192ee16d8e919d76/lib/python3.7/site-packages/pandas/io/parsers/c_parser_wrapper.py\\\\\\\\\\\\\\\", line 51, in __init__\\\\\\\\n    self._open_handles(src, kwds)\\\\\\\\n  File \\\\\\\\\\\\\\\"/azureml-envs/azureml_22e5fdfe1dd161d6192ee16d8e919d76/lib/python3.7/site-packages/pandas/io/parsers/base_parser.py\\\\\\\\\\\\\\\", line 229, in _open_handles\\\\\\\\n    errors=kwds.get(\\\\\\\\\\\\\\\"encoding_errors\\\\\\\\\\\\\\\", \\\\\\\\\\\\\\\"strict\\\\\\\\\\\\\\\"),\\\\\\\\n  File \\\\\\\\\\\\\\\"/azureml-envs/azureml_22e5fdfe1dd161d6192ee16d8e919d76/lib/python3.7/site-packages/pandas/io/common.py\\\\\\\\\\\\\\\", line 614, in get_handle\\\\\\\\n    storage_options=storage_options,\\\\\\\\n  File \\\\\\\\\\\\\\\"/azureml-envs/azureml_22e5fdfe1dd161d6192ee16d8e919d76/lib/python3.7/site-packages/pandas/io/common.py\\\\\\\\\\\\\\\", line 396, in _get_filepath_or_buffer\\\\\\\\n    raise ValueError(msg)\\\\\\\\nValueError: Invalid file path or buffer object type: <class 'NoneType'>\\\\\\\\n\\\\\\\\n'. Please check the log file 'user_logs/std_log.txt' for more details.\\\\\\\"}\\\\n{\\\\n  \\\\\\\"code\\\\\\\": \\\\\\\"ExecutionFailed\\\\\\\",\\\\n  \\\\\\\"target\\\\\\\": \\\\\\\"\\\\\\\",\\\\n  \\\\\\\"category\\\\\\\": \\\\\\\"UserError\\\\\\\",\\\\n  \\\\\\\"error_details\\\\\\\": [\\\\n    {\\\\n      \\\\\\\"key\\\\\\\": \\\\\\\"exit_codes\\\\\\\",\\\\n      \\\\\\\"value\\\\\\\": \\\\\\\"1\\\\\\\"\\\\n    }\\\\n  ]\\\\n}\\\",\\n        \\\"messageParameters\\\": {},\\n        \\\"details\\\": []\\n    },\\n    \\\"time\\\": \\\"0001-01-01T00:00:00.000Z\\\"\\n}\"\n    }\n}",
     "output_type": "error",
     "traceback": [
      "\u001b[0;31m---------------------------------------------------------------------------\u001b[0m",
      "\u001b[0;31mActivityFailedException\u001b[0m                   Traceback (most recent call last)",
      "\u001b[1;32m/home/azureuser/cloudfiles/code/Users/giosue.cotugno/mlops-titanic/notebooks/pipeline-mlops-test.ipynb Cell 38\u001b[0m in \u001b[0;36m<cell line: 8>\u001b[0;34m()\u001b[0m\n\u001b[1;32m      <a href='vscode-notebook-cell://amlext%2B2f737562736372697074696f6e732f66393035333361612d323830642d343062392d393934392d6137626130656539353131662f7265736f7572636547726f7570732f6d6c6f70732d52472f70726f7669646572732f4d6963726f736f66742e4d616368696e654c6561726e696e6753657276696365732f776f726b7370616365732f6d6c6f70732d414d4c2d57532f636f6d70757465732f74657374636f7475/home/azureuser/cloudfiles/code/Users/giosue.cotugno/mlops-titanic/notebooks/pipeline-mlops-test.ipynb#X52sdnNjb2RlLXJlbW90ZQ%3D%3D?line=0'>1</a>\u001b[0m src \u001b[39m=\u001b[39m ScriptRunConfig(source_directory\u001b[39m=\u001b[39m\u001b[39m\"\u001b[39m\u001b[39m.\u001b[39m\u001b[39m\"\u001b[39m,\n\u001b[1;32m      <a href='vscode-notebook-cell://amlext%2B2f737562736372697074696f6e732f66393035333361612d323830642d343062392d393934392d6137626130656539353131662f7265736f7572636547726f7570732f6d6c6f70732d52472f70726f7669646572732f4d6963726f736f66742e4d616368696e654c6561726e696e6753657276696365732f776f726b7370616365732f6d6c6f70732d414d4c2d57532f636f6d70757465732f74657374636f7475/home/azureuser/cloudfiles/code/Users/giosue.cotugno/mlops-titanic/notebooks/pipeline-mlops-test.ipynb#X52sdnNjb2RlLXJlbW90ZQ%3D%3D?line=1'>2</a>\u001b[0m                       script\u001b[39m=\u001b[39m\u001b[39m\"\u001b[39m\u001b[39mUsers/giosue.cotugno/mlops-titanic/src/preprocess/preprocess.py\u001b[39m\u001b[39m\"\u001b[39m,\n\u001b[1;32m      <a href='vscode-notebook-cell://amlext%2B2f737562736372697074696f6e732f66393035333361612d323830642d343062392d393934392d6137626130656539353131662f7265736f7572636547726f7570732f6d6c6f70732d52472f70726f7669646572732f4d6963726f736f66742e4d616368696e654c6561726e696e6753657276696365732f776f726b7370616365732f6d6c6f70732d414d4c2d57532f636f6d70757465732f74657374636f7475/home/azureuser/cloudfiles/code/Users/giosue.cotugno/mlops-titanic/notebooks/pipeline-mlops-test.ipynb#X52sdnNjb2RlLXJlbW90ZQ%3D%3D?line=2'>3</a>\u001b[0m                       compute_target\u001b[39m=\u001b[39maml_compute,\n\u001b[1;32m      <a href='vscode-notebook-cell://amlext%2B2f737562736372697074696f6e732f66393035333361612d323830642d343062392d393934392d6137626130656539353131662f7265736f7572636547726f7570732f6d6c6f70732d52472f70726f7669646572732f4d6963726f736f66742e4d616368696e654c6561726e696e6753657276696365732f776f726b7370616365732f6d6c6f70732d414d4c2d57532f636f6d70757465732f74657374636f7475/home/azureuser/cloudfiles/code/Users/giosue.cotugno/mlops-titanic/notebooks/pipeline-mlops-test.ipynb#X52sdnNjb2RlLXJlbW90ZQ%3D%3D?line=3'>4</a>\u001b[0m                       environment\u001b[39m=\u001b[39mmyenv)\n\u001b[1;32m      <a href='vscode-notebook-cell://amlext%2B2f737562736372697074696f6e732f66393035333361612d323830642d343062392d393934392d6137626130656539353131662f7265736f7572636547726f7570732f6d6c6f70732d52472f70726f7669646572732f4d6963726f736f66742e4d616368696e654c6561726e696e6753657276696365732f776f726b7370616365732f6d6c6f70732d414d4c2d57532f636f6d70757465732f74657374636f7475/home/azureuser/cloudfiles/code/Users/giosue.cotugno/mlops-titanic/notebooks/pipeline-mlops-test.ipynb#X52sdnNjb2RlLXJlbW90ZQ%3D%3D?line=5'>6</a>\u001b[0m run \u001b[39m=\u001b[39m myexp\u001b[39m.\u001b[39msubmit(config\u001b[39m=\u001b[39msrc)\n\u001b[0;32m----> <a href='vscode-notebook-cell://amlext%2B2f737562736372697074696f6e732f66393035333361612d323830642d343062392d393934392d6137626130656539353131662f7265736f7572636547726f7570732f6d6c6f70732d52472f70726f7669646572732f4d6963726f736f66742e4d616368696e654c6561726e696e6753657276696365732f776f726b7370616365732f6d6c6f70732d414d4c2d57532f636f6d70757465732f74657374636f7475/home/azureuser/cloudfiles/code/Users/giosue.cotugno/mlops-titanic/notebooks/pipeline-mlops-test.ipynb#X52sdnNjb2RlLXJlbW90ZQ%3D%3D?line=7'>8</a>\u001b[0m run\u001b[39m.\u001b[39;49mwait_for_completion(show_output\u001b[39m=\u001b[39;49m\u001b[39mTrue\u001b[39;49;00m)\n",
      "File \u001b[0;32m/anaconda/envs/azureml_py38/lib/python3.8/site-packages/azureml/core/run.py:843\u001b[0m, in \u001b[0;36mRun.wait_for_completion\u001b[0;34m(self, show_output, wait_post_processing, raise_on_error)\u001b[0m\n\u001b[1;32m    841\u001b[0m \u001b[39mif\u001b[39;00m show_output:\n\u001b[1;32m    842\u001b[0m     \u001b[39mtry\u001b[39;00m:\n\u001b[0;32m--> 843\u001b[0m         \u001b[39mself\u001b[39;49m\u001b[39m.\u001b[39;49m_stream_run_output(\n\u001b[1;32m    844\u001b[0m             file_handle\u001b[39m=\u001b[39;49msys\u001b[39m.\u001b[39;49mstdout,\n\u001b[1;32m    845\u001b[0m             wait_post_processing\u001b[39m=\u001b[39;49mwait_post_processing,\n\u001b[1;32m    846\u001b[0m             raise_on_error\u001b[39m=\u001b[39;49mraise_on_error)\n\u001b[1;32m    847\u001b[0m         \u001b[39mreturn\u001b[39;00m \u001b[39mself\u001b[39m\u001b[39m.\u001b[39mget_details()\n\u001b[1;32m    848\u001b[0m     \u001b[39mexcept\u001b[39;00m \u001b[39mKeyboardInterrupt\u001b[39;00m:\n",
      "File \u001b[0;32m/anaconda/envs/azureml_py38/lib/python3.8/site-packages/azureml/core/run.py:1096\u001b[0m, in \u001b[0;36mRun._stream_run_output\u001b[0;34m(self, file_handle, wait_post_processing, raise_on_error)\u001b[0m\n\u001b[1;32m   1094\u001b[0m         file_handle\u001b[39m.\u001b[39mwrite(\u001b[39m\"\u001b[39m\u001b[39m\\n\u001b[39;00m\u001b[39m\"\u001b[39m)\n\u001b[1;32m   1095\u001b[0m     \u001b[39melse\u001b[39;00m:\n\u001b[0;32m-> 1096\u001b[0m         \u001b[39mraise\u001b[39;00m ActivityFailedException(error_details\u001b[39m=\u001b[39mjson\u001b[39m.\u001b[39mdumps(error, indent\u001b[39m=\u001b[39m\u001b[39m4\u001b[39m))\n\u001b[1;32m   1098\u001b[0m file_handle\u001b[39m.\u001b[39mwrite(\u001b[39m\"\u001b[39m\u001b[39m\\n\u001b[39;00m\u001b[39m\"\u001b[39m)\n\u001b[1;32m   1099\u001b[0m file_handle\u001b[39m.\u001b[39mflush()\n",
      "\u001b[0;31mActivityFailedException\u001b[0m: ActivityFailedException:\n\tMessage: Activity Failed:\n{\n    \"error\": {\n        \"code\": \"UserError\",\n        \"message\": \"{\\\"NonCompliant\\\":\\\"Process '/azureml-envs/azureml_22e5fdfe1dd161d6192ee16d8e919d76/bin/python' exited with code 1 and error message 'Execution failed. Process exited with status code 1. Error:   File \\\\\\\"/azureml-envs/azureml_22e5fdfe1dd161d6192ee16d8e919d76/lib/python3.7/site-packages/pandas/util/_decorators.py\\\\\\\", line 311, in wrapper\\\\n    return func(*args, **kwargs)\\\\n  File \\\\\\\"/azureml-envs/azureml_22e5fdfe1dd161d6192ee16d8e919d76/lib/python3.7/site-packages/pandas/io/parsers/readers.py\\\\\\\", line 586, in read_csv\\\\n    return _read(filepath_or_buffer, kwds)\\\\n  File \\\\\\\"/azureml-envs/azureml_22e5fdfe1dd161d6192ee16d8e919d76/lib/python3.7/site-packages/pandas/io/parsers/readers.py\\\\\\\", line 482, in _read\\\\n    parser = TextFileReader(filepath_or_buffer, **kwds)\\\\n  File \\\\\\\"/azureml-envs/azureml_22e5fdfe1dd161d6192ee16d8e919d76/lib/python3.7/site-packages/pandas/io/parsers/readers.py\\\\\\\", line 811, in __init__\\\\n    self._engine = self._make_engine(self.engine)\\\\n  File \\\\\\\"/azureml-envs/azureml_22e5fdfe1dd161d6192ee16d8e919d76/lib/python3.7/site-packages/pandas/io/parsers/readers.py\\\\\\\", line 1040, in _make_engine\\\\n    return mapping[engine](self.f, **self.options)  # type: ignore[call-arg]\\\\n  File \\\\\\\"/azureml-envs/azureml_22e5fdfe1dd161d6192ee16d8e919d76/lib/python3.7/site-packages/pandas/io/parsers/c_parser_wrapper.py\\\\\\\", line 51, in __init__\\\\n    self._open_handles(src, kwds)\\\\n  File \\\\\\\"/azureml-envs/azureml_22e5fdfe1dd161d6192ee16d8e919d76/lib/python3.7/site-packages/pandas/io/parsers/base_parser.py\\\\\\\", line 229, in _open_handles\\\\n    errors=kwds.get(\\\\\\\"encoding_errors\\\\\\\", \\\\\\\"strict\\\\\\\"),\\\\n  File \\\\\\\"/azureml-envs/azureml_22e5fdfe1dd161d6192ee16d8e919d76/lib/python3.7/site-packages/pandas/io/common.py\\\\\\\", line 614, in get_handle\\\\n    storage_options=storage_options,\\\\n  File \\\\\\\"/azureml-envs/azureml_22e5fdfe1dd161d6192ee16d8e919d76/lib/python3.7/site-packages/pandas/io/common.py\\\\\\\", line 396, in _get_filepath_or_buffer\\\\n    raise ValueError(msg)\\\\nValueError: Invalid file path or buffer object type: <class 'NoneType'>\\\\n\\\\n'. Please check the log file 'user_logs/std_log.txt' for more details.\\\"}\\n{\\n  \\\"code\\\": \\\"ExecutionFailed\\\",\\n  \\\"target\\\": \\\"\\\",\\n  \\\"category\\\": \\\"UserError\\\",\\n  \\\"error_details\\\": [\\n    {\\n      \\\"key\\\": \\\"exit_codes\\\",\\n      \\\"value\\\": \\\"1\\\"\\n    }\\n  ]\\n}\",\n        \"messageParameters\": {},\n        \"details\": []\n    },\n    \"time\": \"0001-01-01T00:00:00.000Z\"\n}\n\tInnerException None\n\tErrorResponse \n{\n    \"error\": {\n        \"message\": \"Activity Failed:\\n{\\n    \\\"error\\\": {\\n        \\\"code\\\": \\\"UserError\\\",\\n        \\\"message\\\": \\\"{\\\\\\\"NonCompliant\\\\\\\":\\\\\\\"Process '/azureml-envs/azureml_22e5fdfe1dd161d6192ee16d8e919d76/bin/python' exited with code 1 and error message 'Execution failed. Process exited with status code 1. Error:   File \\\\\\\\\\\\\\\"/azureml-envs/azureml_22e5fdfe1dd161d6192ee16d8e919d76/lib/python3.7/site-packages/pandas/util/_decorators.py\\\\\\\\\\\\\\\", line 311, in wrapper\\\\\\\\n    return func(*args, **kwargs)\\\\\\\\n  File \\\\\\\\\\\\\\\"/azureml-envs/azureml_22e5fdfe1dd161d6192ee16d8e919d76/lib/python3.7/site-packages/pandas/io/parsers/readers.py\\\\\\\\\\\\\\\", line 586, in read_csv\\\\\\\\n    return _read(filepath_or_buffer, kwds)\\\\\\\\n  File \\\\\\\\\\\\\\\"/azureml-envs/azureml_22e5fdfe1dd161d6192ee16d8e919d76/lib/python3.7/site-packages/pandas/io/parsers/readers.py\\\\\\\\\\\\\\\", line 482, in _read\\\\\\\\n    parser = TextFileReader(filepath_or_buffer, **kwds)\\\\\\\\n  File \\\\\\\\\\\\\\\"/azureml-envs/azureml_22e5fdfe1dd161d6192ee16d8e919d76/lib/python3.7/site-packages/pandas/io/parsers/readers.py\\\\\\\\\\\\\\\", line 811, in __init__\\\\\\\\n    self._engine = self._make_engine(self.engine)\\\\\\\\n  File \\\\\\\\\\\\\\\"/azureml-envs/azureml_22e5fdfe1dd161d6192ee16d8e919d76/lib/python3.7/site-packages/pandas/io/parsers/readers.py\\\\\\\\\\\\\\\", line 1040, in _make_engine\\\\\\\\n    return mapping[engine](self.f, **self.options)  # type: ignore[call-arg]\\\\\\\\n  File \\\\\\\\\\\\\\\"/azureml-envs/azureml_22e5fdfe1dd161d6192ee16d8e919d76/lib/python3.7/site-packages/pandas/io/parsers/c_parser_wrapper.py\\\\\\\\\\\\\\\", line 51, in __init__\\\\\\\\n    self._open_handles(src, kwds)\\\\\\\\n  File \\\\\\\\\\\\\\\"/azureml-envs/azureml_22e5fdfe1dd161d6192ee16d8e919d76/lib/python3.7/site-packages/pandas/io/parsers/base_parser.py\\\\\\\\\\\\\\\", line 229, in _open_handles\\\\\\\\n    errors=kwds.get(\\\\\\\\\\\\\\\"encoding_errors\\\\\\\\\\\\\\\", \\\\\\\\\\\\\\\"strict\\\\\\\\\\\\\\\"),\\\\\\\\n  File \\\\\\\\\\\\\\\"/azureml-envs/azureml_22e5fdfe1dd161d6192ee16d8e919d76/lib/python3.7/site-packages/pandas/io/common.py\\\\\\\\\\\\\\\", line 614, in get_handle\\\\\\\\n    storage_options=storage_options,\\\\\\\\n  File \\\\\\\\\\\\\\\"/azureml-envs/azureml_22e5fdfe1dd161d6192ee16d8e919d76/lib/python3.7/site-packages/pandas/io/common.py\\\\\\\\\\\\\\\", line 396, in _get_filepath_or_buffer\\\\\\\\n    raise ValueError(msg)\\\\\\\\nValueError: Invalid file path or buffer object type: <class 'NoneType'>\\\\\\\\n\\\\\\\\n'. Please check the log file 'user_logs/std_log.txt' for more details.\\\\\\\"}\\\\n{\\\\n  \\\\\\\"code\\\\\\\": \\\\\\\"ExecutionFailed\\\\\\\",\\\\n  \\\\\\\"target\\\\\\\": \\\\\\\"\\\\\\\",\\\\n  \\\\\\\"category\\\\\\\": \\\\\\\"UserError\\\\\\\",\\\\n  \\\\\\\"error_details\\\\\\\": [\\\\n    {\\\\n      \\\\\\\"key\\\\\\\": \\\\\\\"exit_codes\\\\\\\",\\\\n      \\\\\\\"value\\\\\\\": \\\\\\\"1\\\\\\\"\\\\n    }\\\\n  ]\\\\n}\\\",\\n        \\\"messageParameters\\\": {},\\n        \\\"details\\\": []\\n    },\\n    \\\"time\\\": \\\"0001-01-01T00:00:00.000Z\\\"\\n}\"\n    }\n}"
     ]
    }
   ],
   "source": [
    "src = ScriptRunConfig(source_directory=\".\",\n",
    "                      script=\"Users/giosue.cotugno/mlops-titanic/src/preprocess/preprocess.py\",\n",
    "                      compute_target=aml_compute,\n",
    "                      environment=myenv)\n",
    "\n",
    "run = myexp.submit(config=src)\n",
    "\n",
    "run.wait_for_completion(show_output=True)"
   ]
  }
 ],
 "metadata": {
  "kernelspec": {
   "display_name": "Python 3 (ipykernel)",
   "language": "python",
   "name": "python3"
  },
  "language_info": {
   "codemirror_mode": {
    "name": "ipython",
    "version": 3
   },
   "file_extension": ".py",
   "mimetype": "text/x-python",
   "name": "python",
   "nbconvert_exporter": "python",
   "pygments_lexer": "ipython3",
   "version": "3.8.5"
  },
  "orig_nbformat": 4,
  "vscode": {
   "interpreter": {
    "hash": "916dbcbb3f70747c44a77c7bcd40155683ae19c65e1c03b4aa3499c5328201f1"
   }
  }
 },
 "nbformat": 4,
 "nbformat_minor": 2
}
